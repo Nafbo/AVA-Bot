{
 "cells": [
  {
   "cell_type": "code",
   "execution_count": null,
   "metadata": {},
   "outputs": [],
   "source": [
    "\n",
    "# Ouvrez un fichier CSV en mode écriture pour stocker les tweets récents\n",
    "with open(\"recent_tweets.csv\", \"w\", newline=\"\", encoding=\"utf-8\") as f:\n",
    "    writer = csv.writer(f)\n",
    "    # Écrivez l'en-tête du fichier CSV\n",
    "    writer.writerow([\"username\", \"tweet\"])\n",
    "\n",
    "    # Utilisez l'API de recherche de Twitter pour récupérer les tweets qui contiennent le mot-clé \"bitcoin\" et qui ont été publiés récemment\n",
    "    for tweet in tweepy.Cursor(api.search_tweets, q=\"bitcoin\", lang=\"fr\", tweet_mode=\"extended\", since_id=one_month_ago).items():\n",
    "        # Écrivez chaque tweet dans le fichier CSV\n",
    "        writer.writerow([tweet.user.screen_name, tweet.full_text])\n"
   ]
  },
  {
   "cell_type": "code",
   "execution_count": 5,
   "metadata": {},
   "outputs": [
    {
     "ename": "KeyError",
     "evalue": "'statuses'",
     "output_type": "error",
     "traceback": [
      "\u001b[0;31m---------------------------------------------------------------------------\u001b[0m",
      "\u001b[0;31mKeyError\u001b[0m                                  Traceback (most recent call last)",
      "Cell \u001b[0;32mIn[5], line 50\u001b[0m\n\u001b[1;32m     47\u001b[0m data \u001b[39m=\u001b[39m response\u001b[39m.\u001b[39mjson()\n\u001b[1;32m     49\u001b[0m \u001b[39m# Parcourez les tweets récupérés et enregistrez-les dans le fichier CSV\u001b[39;00m\n\u001b[0;32m---> 50\u001b[0m \u001b[39mfor\u001b[39;00m tweet \u001b[39min\u001b[39;00m data[\u001b[39m\"\u001b[39;49m\u001b[39mstatuses\u001b[39;49m\u001b[39m\"\u001b[39;49m]:\n\u001b[1;32m     51\u001b[0m     writer\u001b[39m.\u001b[39mwriterow([tweet[\u001b[39m\"\u001b[39m\u001b[39muser\u001b[39m\u001b[39m\"\u001b[39m][\u001b[39m\"\u001b[39m\u001b[39mscreen_name\u001b[39m\u001b[39m\"\u001b[39m], tweet[\u001b[39m\"\u001b[39m\u001b[39mtext\u001b[39m\u001b[39m\"\u001b[39m]])\n",
      "\u001b[0;31mKeyError\u001b[0m: 'statuses'"
     ]
    }
   ],
   "source": [
    "import requests\n",
    "import json\n",
    "import csv\n",
    "import datetime\n",
    "\n",
    "# Remplacez les valeurs ci-dessous par les informations de votre compte Twitter\n",
    "consumer_key = \"88dldRnuq6fLPQKkX8azrCd5p\"\n",
    "consumer_secret = \"WTZDb3JRQUjZVRu6LhQNhIVzoQpZ2Cd2i6ePKnRATeQnBuNx6g\"\n",
    "\n",
    "\n",
    "# Créez un jeton d'accès en utilisant vos informations d'identification\n",
    "bearer_token = requests.post(\n",
    "    \"https://api.twitter.com/oauth2/token\",\n",
    "    auth=(consumer_key, consumer_secret),\n",
    "    data={\"grant_type\": \"client_credentials\"}\n",
    ").json()[\"access_token\"]\n",
    "\n",
    "# Définissez l'URL de l'API de recherche de Twitter\n",
    "url = \"https://api.twitter.com/1.1/search/tweets.json\"\n",
    "\n",
    "# Calculate the date 1 month ago\n",
    "one_month_ago = datetime.datetime.now() - datetime.timedelta(days=30)\n",
    "\n",
    "# Ouvrez un fichier CSV en mode écriture pour stocker les tweets récupérés\n",
    "with open(\"tweets_1_month_ago.csv\", \"w\", newline=\"\", encoding=\"utf-8\") as f:\n",
    "    writer = csv.writer(f)\n",
    "    # Écrivez l'en-tête du fichier CSV\n",
    "    writer.writerow([\"username\", \"tweet\"])\n",
    "\n",
    "    # Définissez les paramètres de la requête\n",
    "    params = {\n",
    "        \"q\": \"bitcoin\",\n",
    "        \"lang\": \"fr\",\n",
    "        \"result_type\": \"recent\",\n",
    "        \"count\": 100,\n",
    "        #\"since_id\": one_month_ago.strftime(\"%Y-%m-%d\")\n",
    "    }\n",
    "\n",
    "    # Envoyez la requête à l'API de recherche de Twitter\n",
    "    response = requests.get(\n",
    "        url,\n",
    "        params=params,\n",
    "        headers={\"Authorization\": f\"Bearer {bearer_token}\"}\n",
    "    )\n",
    "\n",
    "    # Chargez la réponse de l'API en tant que dictionnaire Python\n",
    "    data = response.json()\n",
    "\n",
    "    # Parcourez les tweets récupérés et enregistrez-les dans le fichier CSV\n",
    "    for tweet in data[\"statuses\"]:\n",
    "        writer.writerow([tweet[\"user\"][\"screen_name\"], tweet[\"text\"]])\n",
    "\n",
    "        \n",
    "        \n",
    "\n"
   ]
  },
  {
   "cell_type": "code",
   "execution_count": null,
   "metadata": {},
   "outputs": [],
   "source": []
  }
 ],
 "metadata": {
  "kernelspec": {
   "display_name": "Python 3",
   "language": "python",
   "name": "python3"
  },
  "language_info": {
   "codemirror_mode": {
    "name": "ipython",
    "version": 3
   },
   "file_extension": ".py",
   "mimetype": "text/x-python",
   "name": "python",
   "nbconvert_exporter": "python",
   "pygments_lexer": "ipython3",
   "version": "3.8.9"
  },
  "orig_nbformat": 4,
  "vscode": {
   "interpreter": {
    "hash": "31f2aee4e71d21fbe5cf8b01ff0e069b9275f58929596ceb00d14d90e3e16cd6"
   }
  }
 },
 "nbformat": 4,
 "nbformat_minor": 2
}
