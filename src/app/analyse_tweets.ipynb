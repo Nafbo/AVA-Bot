{
 "cells": [
  {
   "cell_type": "code",
   "execution_count": 46,
   "metadata": {},
   "outputs": [
    {
     "name": "stderr",
     "output_type": "stream",
     "text": [
      "[nltk_data] Downloading package stopwords to\n",
      "[nltk_data]     /Users/adri22/nltk_data...\n",
      "[nltk_data]   Package stopwords is already up-to-date!\n",
      "2023-02-08 11:37:41.183330: I tensorflow/core/platform/cpu_feature_guard.cc:193] This TensorFlow binary is optimized with oneAPI Deep Neural Network Library (oneDNN) to use the following CPU instructions in performance-critical operations:  AVX2 FMA\n",
      "To enable them in other operations, rebuild TensorFlow with the appropriate compiler flags.\n"
     ]
    }
   ],
   "source": [
    "import numpy as np\n",
    "import pandas as pd\n",
    "import os\n",
    "from tqdm import tqdm\n",
    "\n",
    "#pour le preprocessing\n",
    "import re    # Permet d'enlever les emojis\n",
    "import nltk \n",
    "nltk.download(\"stopwords\")\n",
    "from nltk.corpus import stopwords\n",
    "from nltk.stem.porter import *\n",
    "from nltk.sentiment.vader import SentimentIntensityAnalyzer\n",
    "\n",
    "# pour construire le model et l'entrainer\n",
    "from sklearn.model_selection import train_test_split\n",
    "import tensorflow as tf\n",
    "import seaborn as sns\n",
    "\n",
    "#Pour visualiser le résultat\n",
    "import matplotlib.pyplot as plt\n",
    "import matplotlib.patches as mpatches\n"
   ]
  },
  {
   "cell_type": "code",
   "execution_count": 47,
   "metadata": {},
   "outputs": [
    {
     "data": {
      "text/html": [
       "<div>\n",
       "<style scoped>\n",
       "    .dataframe tbody tr th:only-of-type {\n",
       "        vertical-align: middle;\n",
       "    }\n",
       "\n",
       "    .dataframe tbody tr th {\n",
       "        vertical-align: top;\n",
       "    }\n",
       "\n",
       "    .dataframe thead th {\n",
       "        text-align: right;\n",
       "    }\n",
       "</style>\n",
       "<table border=\"1\" class=\"dataframe\">\n",
       "  <thead>\n",
       "    <tr style=\"text-align: right;\">\n",
       "      <th></th>\n",
       "      <th>tweet</th>\n",
       "    </tr>\n",
       "  </thead>\n",
       "  <tbody>\n",
       "    <tr>\n",
       "      <th>0</th>\n",
       "      <td>Map of the #bitcoin network   https://t.co/2lm...</td>\n",
       "    </tr>\n",
       "    <tr>\n",
       "      <th>1</th>\n",
       "      <td>#Bitcoin went online 14 years ago today!  http...</td>\n",
       "    </tr>\n",
       "    <tr>\n",
       "      <th>2</th>\n",
       "      <td>$1 of bitcoin in 2009 is now worth $22 million</td>\n",
       "    </tr>\n",
       "    <tr>\n",
       "      <th>3</th>\n",
       "      <td>The #Bitcoin Network processed $34,238,678,531...</td>\n",
       "    </tr>\n",
       "    <tr>\n",
       "      <th>4</th>\n",
       "      <td>Over 5 million #bitcoin have not moved in half...</td>\n",
       "    </tr>\n",
       "    <tr>\n",
       "      <th>...</th>\n",
       "      <td>...</td>\n",
       "    </tr>\n",
       "    <tr>\n",
       "      <th>3769</th>\n",
       "      <td>Merci pour ce match, merci de nous faire autan...</td>\n",
       "    </tr>\n",
       "    <tr>\n",
       "      <th>3770</th>\n",
       "      <td>Celui qui met Argentine gagnant banni à vie 😉</td>\n",
       "    </tr>\n",
       "    <tr>\n",
       "      <th>3771</th>\n",
       "      <td>Quel prono France 🇨🇵vs 🇦🇷Argentine?   Je vois ...</td>\n",
       "    </tr>\n",
       "    <tr>\n",
       "      <th>3772</th>\n",
       "      <td>@kris We take this scenario everyday 🙏</td>\n",
       "    </tr>\n",
       "    <tr>\n",
       "      <th>3773</th>\n",
       "      <td>@cz_binance We need trust right now</td>\n",
       "    </tr>\n",
       "  </tbody>\n",
       "</table>\n",
       "<p>3774 rows × 1 columns</p>\n",
       "</div>"
      ],
      "text/plain": [
       "                                                  tweet\n",
       "0     Map of the #bitcoin network   https://t.co/2lm...\n",
       "1     #Bitcoin went online 14 years ago today!  http...\n",
       "2        $1 of bitcoin in 2009 is now worth $22 million\n",
       "3     The #Bitcoin Network processed $34,238,678,531...\n",
       "4     Over 5 million #bitcoin have not moved in half...\n",
       "...                                                 ...\n",
       "3769  Merci pour ce match, merci de nous faire autan...\n",
       "3770      Celui qui met Argentine gagnant banni à vie 😉\n",
       "3771  Quel prono France 🇨🇵vs 🇦🇷Argentine?   Je vois ...\n",
       "3772             @kris We take this scenario everyday 🙏\n",
       "3773                @cz_binance We need trust right now\n",
       "\n",
       "[3774 rows x 1 columns]"
      ]
     },
     "execution_count": 47,
     "metadata": {},
     "output_type": "execute_result"
    }
   ],
   "source": [
    "df0 = pd.read_csv('/Users/adri22/Desktop/AVA-Bot/src/app/Bitcoin.csv')\n",
    "df0"
   ]
  },
  {
   "cell_type": "code",
   "execution_count": 48,
   "metadata": {},
   "outputs": [
    {
     "data": {
      "text/html": [
       "<div>\n",
       "<style scoped>\n",
       "    .dataframe tbody tr th:only-of-type {\n",
       "        vertical-align: middle;\n",
       "    }\n",
       "\n",
       "    .dataframe tbody tr th {\n",
       "        vertical-align: top;\n",
       "    }\n",
       "\n",
       "    .dataframe thead th {\n",
       "        text-align: right;\n",
       "    }\n",
       "</style>\n",
       "<table border=\"1\" class=\"dataframe\">\n",
       "  <thead>\n",
       "    <tr style=\"text-align: right;\">\n",
       "      <th></th>\n",
       "      <th>tweet</th>\n",
       "    </tr>\n",
       "  </thead>\n",
       "  <tbody>\n",
       "    <tr>\n",
       "      <th>0</th>\n",
       "      <td>Map of the #bitcoin network   https://t.co/2lm...</td>\n",
       "    </tr>\n",
       "    <tr>\n",
       "      <th>1</th>\n",
       "      <td>#Bitcoin went online 14 years ago today!  http...</td>\n",
       "    </tr>\n",
       "    <tr>\n",
       "      <th>2</th>\n",
       "      <td>$1 of bitcoin in 2009 is now worth $22 million</td>\n",
       "    </tr>\n",
       "    <tr>\n",
       "      <th>3</th>\n",
       "      <td>The #Bitcoin Network processed $34,238,678,531...</td>\n",
       "    </tr>\n",
       "    <tr>\n",
       "      <th>4</th>\n",
       "      <td>Over 5 million #bitcoin have not moved in half...</td>\n",
       "    </tr>\n",
       "    <tr>\n",
       "      <th>...</th>\n",
       "      <td>...</td>\n",
       "    </tr>\n",
       "    <tr>\n",
       "      <th>3769</th>\n",
       "      <td>Merci pour ce match, merci de nous faire autan...</td>\n",
       "    </tr>\n",
       "    <tr>\n",
       "      <th>3770</th>\n",
       "      <td>Celui qui met Argentine gagnant banni à vie 😉</td>\n",
       "    </tr>\n",
       "    <tr>\n",
       "      <th>3771</th>\n",
       "      <td>Quel prono France 🇨🇵vs 🇦🇷Argentine?   Je vois ...</td>\n",
       "    </tr>\n",
       "    <tr>\n",
       "      <th>3772</th>\n",
       "      <td>@kris We take this scenario everyday 🙏</td>\n",
       "    </tr>\n",
       "    <tr>\n",
       "      <th>3773</th>\n",
       "      <td>@cz_binance We need trust right now</td>\n",
       "    </tr>\n",
       "  </tbody>\n",
       "</table>\n",
       "<p>3774 rows × 1 columns</p>\n",
       "</div>"
      ],
      "text/plain": [
       "                                                  tweet\n",
       "0     Map of the #bitcoin network   https://t.co/2lm...\n",
       "1     #Bitcoin went online 14 years ago today!  http...\n",
       "2        $1 of bitcoin in 2009 is now worth $22 million\n",
       "3     The #Bitcoin Network processed $34,238,678,531...\n",
       "4     Over 5 million #bitcoin have not moved in half...\n",
       "...                                                 ...\n",
       "3769  Merci pour ce match, merci de nous faire autan...\n",
       "3770      Celui qui met Argentine gagnant banni à vie 😉\n",
       "3771  Quel prono France 🇨🇵vs 🇦🇷Argentine?   Je vois ...\n",
       "3772             @kris We take this scenario everyday 🙏\n",
       "3773                @cz_binance We need trust right now\n",
       "\n",
       "[3774 rows x 1 columns]"
      ]
     },
     "execution_count": 48,
     "metadata": {},
     "output_type": "execute_result"
    }
   ],
   "source": [
    "df=df0[['tweet']][0:20000]\n",
    "df"
   ]
  },
  {
   "cell_type": "code",
   "execution_count": 49,
   "metadata": {},
   "outputs": [],
   "source": [
    "def tweet_to_words(tweet):\n",
    "    ''' Permet de convertir les tweets en une séquence de mots'''\n",
    "    \n",
    "\n",
    "    text = tweet\n",
    "    # enlève les caractères\n",
    "    text= re.sub('#bitcoin', 'bitcoin', text) #enlève le hashtag de bitcoin\n",
    "    text= re.sub('#Bitcoin', 'Bitcoin', text)\n",
    "    text = re.sub(r\"[^a-zA-Z0-9]\", \" \", text)\n",
    "    text = re.sub('http://\\S+|https://\\S+', '', text)\n",
    "    text = re.sub('\\\\n','',text)\n",
    "    text= re.sub('https?:\\/\\/\\S+','',text)\n",
    "    # on tokenize\n",
    "    words = text.split()\n",
    "    # on enlève les stopwords\n",
    "    words = [w for w in words if w not in stopwords.words(\"english\")]\n",
    "    # on applique stemming\n",
    "    words = [PorterStemmer().stem(w) for w in words]\n",
    "\n",
    "    return words"
   ]
  },
  {
   "cell_type": "code",
   "execution_count": 50,
   "metadata": {},
   "outputs": [
    {
     "name": "stderr",
     "output_type": "stream",
     "text": [
      " 31%|███       | 1156/3774 [00:08<00:20, 129.92it/s]\n"
     ]
    },
    {
     "ename": "KeyboardInterrupt",
     "evalue": "",
     "output_type": "error",
     "traceback": [
      "\u001b[0;31m---------------------------------------------------------------------------\u001b[0m",
      "\u001b[0;31mKeyboardInterrupt\u001b[0m                         Traceback (most recent call last)",
      "Cell \u001b[0;32mIn[50], line 4\u001b[0m\n\u001b[1;32m      2\u001b[0m \u001b[39m#tqdm permet d'avoir la bare de progression\u001b[39;00m\n\u001b[1;32m      3\u001b[0m \u001b[39mfor\u001b[39;00m item \u001b[39min\u001b[39;00m tqdm(df[\u001b[39m'\u001b[39m\u001b[39mtweet\u001b[39m\u001b[39m'\u001b[39m]):\n\u001b[0;32m----> 4\u001b[0m     words\u001b[39m=\u001b[39mtweet_to_words(item)\n\u001b[1;32m      5\u001b[0m     cleantext\u001b[39m+\u001b[39m\u001b[39m=\u001b[39m[words]\n\u001b[1;32m      6\u001b[0m df[\u001b[39m'\u001b[39m\u001b[39mcleantext\u001b[39m\u001b[39m'\u001b[39m]\u001b[39m=\u001b[39mcleantext\n",
      "Cell \u001b[0;32mIn[49], line 16\u001b[0m, in \u001b[0;36mtweet_to_words\u001b[0;34m(tweet)\u001b[0m\n\u001b[1;32m     14\u001b[0m words \u001b[39m=\u001b[39m text\u001b[39m.\u001b[39msplit()\n\u001b[1;32m     15\u001b[0m \u001b[39m# on enlève les stopwords\u001b[39;00m\n\u001b[0;32m---> 16\u001b[0m words \u001b[39m=\u001b[39m [w \u001b[39mfor\u001b[39;00m w \u001b[39min\u001b[39;00m words \u001b[39mif\u001b[39;00m w \u001b[39mnot\u001b[39;00m \u001b[39min\u001b[39;00m stopwords\u001b[39m.\u001b[39mwords(\u001b[39m\"\u001b[39m\u001b[39menglish\u001b[39m\u001b[39m\"\u001b[39m)]\n\u001b[1;32m     17\u001b[0m \u001b[39m# on applique stemming\u001b[39;00m\n\u001b[1;32m     18\u001b[0m words \u001b[39m=\u001b[39m [PorterStemmer()\u001b[39m.\u001b[39mstem(w) \u001b[39mfor\u001b[39;00m w \u001b[39min\u001b[39;00m words]\n",
      "Cell \u001b[0;32mIn[49], line 16\u001b[0m, in \u001b[0;36m<listcomp>\u001b[0;34m(.0)\u001b[0m\n\u001b[1;32m     14\u001b[0m words \u001b[39m=\u001b[39m text\u001b[39m.\u001b[39msplit()\n\u001b[1;32m     15\u001b[0m \u001b[39m# on enlève les stopwords\u001b[39;00m\n\u001b[0;32m---> 16\u001b[0m words \u001b[39m=\u001b[39m [w \u001b[39mfor\u001b[39;00m w \u001b[39min\u001b[39;00m words \u001b[39mif\u001b[39;00m w \u001b[39mnot\u001b[39;00m \u001b[39min\u001b[39;00m stopwords\u001b[39m.\u001b[39;49mwords(\u001b[39m\"\u001b[39;49m\u001b[39menglish\u001b[39;49m\u001b[39m\"\u001b[39;49m)]\n\u001b[1;32m     17\u001b[0m \u001b[39m# on applique stemming\u001b[39;00m\n\u001b[1;32m     18\u001b[0m words \u001b[39m=\u001b[39m [PorterStemmer()\u001b[39m.\u001b[39mstem(w) \u001b[39mfor\u001b[39;00m w \u001b[39min\u001b[39;00m words]\n",
      "File \u001b[0;32m~/Library/Python/3.8/lib/python/site-packages/nltk/corpus/reader/wordlist.py:21\u001b[0m, in \u001b[0;36mWordListCorpusReader.words\u001b[0;34m(self, fileids, ignore_lines_startswith)\u001b[0m\n\u001b[1;32m     18\u001b[0m \u001b[39mdef\u001b[39;00m \u001b[39mwords\u001b[39m(\u001b[39mself\u001b[39m, fileids\u001b[39m=\u001b[39m\u001b[39mNone\u001b[39;00m, ignore_lines_startswith\u001b[39m=\u001b[39m\u001b[39m\"\u001b[39m\u001b[39m\\n\u001b[39;00m\u001b[39m\"\u001b[39m):\n\u001b[1;32m     19\u001b[0m     \u001b[39mreturn\u001b[39;00m [\n\u001b[1;32m     20\u001b[0m         line\n\u001b[0;32m---> 21\u001b[0m         \u001b[39mfor\u001b[39;00m line \u001b[39min\u001b[39;00m line_tokenize(\u001b[39mself\u001b[39;49m\u001b[39m.\u001b[39;49mraw(fileids))\n\u001b[1;32m     22\u001b[0m         \u001b[39mif\u001b[39;00m \u001b[39mnot\u001b[39;00m line\u001b[39m.\u001b[39mstartswith(ignore_lines_startswith)\n\u001b[1;32m     23\u001b[0m     ]\n",
      "File \u001b[0;32m~/Library/Python/3.8/lib/python/site-packages/nltk/corpus/reader/api.py:218\u001b[0m, in \u001b[0;36mCorpusReader.raw\u001b[0;34m(self, fileids)\u001b[0m\n\u001b[1;32m    216\u001b[0m contents \u001b[39m=\u001b[39m []\n\u001b[1;32m    217\u001b[0m \u001b[39mfor\u001b[39;00m f \u001b[39min\u001b[39;00m fileids:\n\u001b[0;32m--> 218\u001b[0m     \u001b[39mwith\u001b[39;00m \u001b[39mself\u001b[39;49m\u001b[39m.\u001b[39;49mopen(f) \u001b[39mas\u001b[39;00m fp:\n\u001b[1;32m    219\u001b[0m         contents\u001b[39m.\u001b[39mappend(fp\u001b[39m.\u001b[39mread())\n\u001b[1;32m    220\u001b[0m \u001b[39mreturn\u001b[39;00m concat(contents)\n",
      "File \u001b[0;32m~/Library/Python/3.8/lib/python/site-packages/nltk/corpus/reader/api.py:231\u001b[0m, in \u001b[0;36mCorpusReader.open\u001b[0;34m(self, file)\u001b[0m\n\u001b[1;32m    223\u001b[0m \u001b[39m\"\"\"\u001b[39;00m\n\u001b[1;32m    224\u001b[0m \u001b[39mReturn an open stream that can be used to read the given file.\u001b[39;00m\n\u001b[1;32m    225\u001b[0m \u001b[39mIf the file's encoding is not None, then the stream will\u001b[39;00m\n\u001b[0;32m   (...)\u001b[0m\n\u001b[1;32m    228\u001b[0m \u001b[39m:param file: The file identifier of the file to read.\u001b[39;00m\n\u001b[1;32m    229\u001b[0m \u001b[39m\"\"\"\u001b[39;00m\n\u001b[1;32m    230\u001b[0m encoding \u001b[39m=\u001b[39m \u001b[39mself\u001b[39m\u001b[39m.\u001b[39mencoding(file)\n\u001b[0;32m--> 231\u001b[0m stream \u001b[39m=\u001b[39m \u001b[39mself\u001b[39;49m\u001b[39m.\u001b[39;49m_root\u001b[39m.\u001b[39;49mjoin(file)\u001b[39m.\u001b[39;49mopen(encoding)\n\u001b[1;32m    232\u001b[0m \u001b[39mreturn\u001b[39;00m stream\n",
      "File \u001b[0;32m~/Library/Python/3.8/lib/python/site-packages/nltk/data.py:326\u001b[0m, in \u001b[0;36mFileSystemPathPointer.open\u001b[0;34m(self, encoding)\u001b[0m\n\u001b[1;32m    324\u001b[0m stream \u001b[39m=\u001b[39m \u001b[39mopen\u001b[39m(\u001b[39mself\u001b[39m\u001b[39m.\u001b[39m_path, \u001b[39m\"\u001b[39m\u001b[39mrb\u001b[39m\u001b[39m\"\u001b[39m)\n\u001b[1;32m    325\u001b[0m \u001b[39mif\u001b[39;00m encoding \u001b[39mis\u001b[39;00m \u001b[39mnot\u001b[39;00m \u001b[39mNone\u001b[39;00m:\n\u001b[0;32m--> 326\u001b[0m     stream \u001b[39m=\u001b[39m SeekableUnicodeStreamReader(stream, encoding)\n\u001b[1;32m    327\u001b[0m \u001b[39mreturn\u001b[39;00m stream\n",
      "File \u001b[0;32m~/Library/Python/3.8/lib/python/site-packages/nltk/compat.py:41\u001b[0m, in \u001b[0;36mpy3_data.<locals>._decorator\u001b[0;34m(*args, **kwargs)\u001b[0m\n\u001b[1;32m     39\u001b[0m \u001b[39mdef\u001b[39;00m \u001b[39m_decorator\u001b[39m(\u001b[39m*\u001b[39margs, \u001b[39m*\u001b[39m\u001b[39m*\u001b[39mkwargs):\n\u001b[1;32m     40\u001b[0m     args \u001b[39m=\u001b[39m (args[\u001b[39m0\u001b[39m], add_py3_data(args[\u001b[39m1\u001b[39m])) \u001b[39m+\u001b[39m args[\u001b[39m2\u001b[39m:]\n\u001b[0;32m---> 41\u001b[0m     \u001b[39mreturn\u001b[39;00m init_func(\u001b[39m*\u001b[39;49margs, \u001b[39m*\u001b[39;49m\u001b[39m*\u001b[39;49mkwargs)\n",
      "File \u001b[0;32m~/Library/Python/3.8/lib/python/site-packages/nltk/data.py:1037\u001b[0m, in \u001b[0;36mSeekableUnicodeStreamReader.__init__\u001b[0;34m(self, stream, encoding, errors)\u001b[0m\n\u001b[1;32m   1031\u001b[0m \u001b[39mself\u001b[39m\u001b[39m.\u001b[39m_rewind_numchars \u001b[39m=\u001b[39m \u001b[39mNone\u001b[39;00m\n\u001b[1;32m   1032\u001b[0m \u001b[39m\"\"\"The number of characters that have been returned since the\u001b[39;00m\n\u001b[1;32m   1033\u001b[0m \u001b[39m   read that started at ``_rewind_checkpoint``.  This is used,\u001b[39;00m\n\u001b[1;32m   1034\u001b[0m \u001b[39m   together with ``_rewind_checkpoint``, to backtrack to the\u001b[39;00m\n\u001b[1;32m   1035\u001b[0m \u001b[39m   beginning of ``linebuffer`` (which is required by ``tell()``).\"\"\"\u001b[39;00m\n\u001b[0;32m-> 1037\u001b[0m \u001b[39mself\u001b[39m\u001b[39m.\u001b[39m_bom \u001b[39m=\u001b[39m \u001b[39mself\u001b[39;49m\u001b[39m.\u001b[39;49m_check_bom()\n\u001b[1;32m   1038\u001b[0m \u001b[39m\"\"\"The length of the byte order marker at the beginning of\u001b[39;00m\n\u001b[1;32m   1039\u001b[0m \u001b[39m   the stream (or None for no byte order marker).\"\"\"\u001b[39;00m\n",
      "File \u001b[0;32m~/Library/Python/3.8/lib/python/site-packages/nltk/data.py:1403\u001b[0m, in \u001b[0;36mSeekableUnicodeStreamReader._check_bom\u001b[0;34m(self)\u001b[0m\n\u001b[1;32m   1401\u001b[0m \u001b[39mdef\u001b[39;00m \u001b[39m_check_bom\u001b[39m(\u001b[39mself\u001b[39m):\n\u001b[1;32m   1402\u001b[0m     \u001b[39m# Normalize our encoding name\u001b[39;00m\n\u001b[0;32m-> 1403\u001b[0m     enc \u001b[39m=\u001b[39m re\u001b[39m.\u001b[39;49msub(\u001b[39m\"\u001b[39;49m\u001b[39m[ -]\u001b[39;49m\u001b[39m\"\u001b[39;49m, \u001b[39m\"\u001b[39;49m\u001b[39m\"\u001b[39;49m, \u001b[39mself\u001b[39;49m\u001b[39m.\u001b[39;49mencoding\u001b[39m.\u001b[39;49mlower())\n\u001b[1;32m   1405\u001b[0m     \u001b[39m# Look up our encoding in the BOM table.\u001b[39;00m\n\u001b[1;32m   1406\u001b[0m     bom_info \u001b[39m=\u001b[39m \u001b[39mself\u001b[39m\u001b[39m.\u001b[39m_BOM_TABLE\u001b[39m.\u001b[39mget(enc)\n",
      "File \u001b[0;32m/Library/Developer/CommandLineTools/Library/Frameworks/Python3.framework/Versions/3.8/lib/python3.8/re.py:210\u001b[0m, in \u001b[0;36msub\u001b[0;34m(pattern, repl, string, count, flags)\u001b[0m\n\u001b[1;32m    203\u001b[0m \u001b[39mdef\u001b[39;00m \u001b[39msub\u001b[39m(pattern, repl, string, count\u001b[39m=\u001b[39m\u001b[39m0\u001b[39m, flags\u001b[39m=\u001b[39m\u001b[39m0\u001b[39m):\n\u001b[1;32m    204\u001b[0m     \u001b[39m\"\"\"Return the string obtained by replacing the leftmost\u001b[39;00m\n\u001b[1;32m    205\u001b[0m \u001b[39m    non-overlapping occurrences of the pattern in string by the\u001b[39;00m\n\u001b[1;32m    206\u001b[0m \u001b[39m    replacement repl.  repl can be either a string or a callable;\u001b[39;00m\n\u001b[1;32m    207\u001b[0m \u001b[39m    if a string, backslash escapes in it are processed.  If it is\u001b[39;00m\n\u001b[1;32m    208\u001b[0m \u001b[39m    a callable, it's passed the Match object and must return\u001b[39;00m\n\u001b[1;32m    209\u001b[0m \u001b[39m    a replacement string to be used.\"\"\"\u001b[39;00m\n\u001b[0;32m--> 210\u001b[0m     \u001b[39mreturn\u001b[39;00m _compile(pattern, flags)\u001b[39m.\u001b[39msub(repl, string, count)\n",
      "File \u001b[0;32m/Library/Developer/CommandLineTools/Library/Frameworks/Python3.framework/Versions/3.8/lib/python3.8/re.py:294\u001b[0m, in \u001b[0;36m_compile\u001b[0;34m(pattern, flags)\u001b[0m\n\u001b[1;32m    292\u001b[0m     flags \u001b[39m=\u001b[39m flags\u001b[39m.\u001b[39mvalue\n\u001b[1;32m    293\u001b[0m \u001b[39mtry\u001b[39;00m:\n\u001b[0;32m--> 294\u001b[0m     \u001b[39mreturn\u001b[39;00m _cache[\u001b[39mtype\u001b[39;49m(pattern), pattern, flags]\n\u001b[1;32m    295\u001b[0m \u001b[39mexcept\u001b[39;00m \u001b[39mKeyError\u001b[39;00m:\n\u001b[1;32m    296\u001b[0m     \u001b[39mpass\u001b[39;00m\n",
      "\u001b[0;31mKeyboardInterrupt\u001b[0m: "
     ]
    }
   ],
   "source": [
    "cleantext=[]\n",
    "#tqdm permet d'avoir la bare de progression\n",
    "for item in tqdm(df['tweet']):\n",
    "    words=tweet_to_words(item)\n",
    "    cleantext+=[words]\n",
    "df['cleantext']=cleantext\n",
    "df"
   ]
  },
  {
   "cell_type": "code",
   "execution_count": null,
   "metadata": {},
   "outputs": [],
   "source": [
    "def unlist(list):\n",
    "    words=''\n",
    "    for item in list:\n",
    "        words+=item+' '\n",
    "    return words"
   ]
  },
  {
   "attachments": {},
   "cell_type": "markdown",
   "metadata": {},
   "source": [
    "# Utilisation de Vader "
   ]
  },
  {
   "cell_type": "code",
   "execution_count": null,
   "metadata": {},
   "outputs": [],
   "source": [
    "def compute_vader_scores(df, label):\n",
    "    sid = SentimentIntensityAnalyzer()\n",
    "    df[\"vader_neg\"] = df[label].apply(lambda x: sid.polarity_scores(unlist(x))[\"neg\"])\n",
    "    df[\"vader_neu\"] = df[label].apply(lambda x: sid.polarity_scores(unlist(x))[\"neu\"])\n",
    "    df[\"vader_pos\"] = df[label].apply(lambda x: sid.polarity_scores(unlist(x))[\"pos\"])\n",
    "    df[\"vader_comp\"] = df[label].apply(lambda x: sid.polarity_scores(unlist(x))[\"compound\"])\n",
    "    df['cleantext2'] = df[label].apply(lambda x: unlist(x))\n",
    "    return df\n",
    "\n",
    "#vader permet d'avoir les sentiments des tweets"
   ]
  },
  {
   "cell_type": "code",
   "execution_count": null,
   "metadata": {},
   "outputs": [
    {
     "data": {
      "text/html": [
       "<div>\n",
       "<style scoped>\n",
       "    .dataframe tbody tr th:only-of-type {\n",
       "        vertical-align: middle;\n",
       "    }\n",
       "\n",
       "    .dataframe tbody tr th {\n",
       "        vertical-align: top;\n",
       "    }\n",
       "\n",
       "    .dataframe thead th {\n",
       "        text-align: right;\n",
       "    }\n",
       "</style>\n",
       "<table border=\"1\" class=\"dataframe\">\n",
       "  <thead>\n",
       "    <tr style=\"text-align: right;\">\n",
       "      <th></th>\n",
       "      <th>tweet</th>\n",
       "      <th>cleantext</th>\n",
       "      <th>vader_neg</th>\n",
       "      <th>vader_neu</th>\n",
       "      <th>vader_pos</th>\n",
       "      <th>vader_comp</th>\n",
       "      <th>cleantext2</th>\n",
       "    </tr>\n",
       "  </thead>\n",
       "  <tbody>\n",
       "    <tr>\n",
       "      <th>0</th>\n",
       "      <td>Map of the #bitcoin network   https://t.co/2lm...</td>\n",
       "      <td>[map, bitcoin, network, http, co, 2lmxi3vfsv]</td>\n",
       "      <td>0.000</td>\n",
       "      <td>1.000</td>\n",
       "      <td>0.000</td>\n",
       "      <td>0.0000</td>\n",
       "      <td>map bitcoin network http co 2lmxi3vfsv</td>\n",
       "    </tr>\n",
       "    <tr>\n",
       "      <th>1</th>\n",
       "      <td>#Bitcoin went online 14 years ago today!  http...</td>\n",
       "      <td>[bitcoin, went, onlin, 14, year, ago, today, h...</td>\n",
       "      <td>0.000</td>\n",
       "      <td>1.000</td>\n",
       "      <td>0.000</td>\n",
       "      <td>0.0000</td>\n",
       "      <td>bitcoin went onlin 14 year ago today http co i...</td>\n",
       "    </tr>\n",
       "    <tr>\n",
       "      <th>2</th>\n",
       "      <td>$1 of bitcoin in 2009 is now worth $22 million</td>\n",
       "      <td>[1, bitcoin, 2009, worth, 22, million]</td>\n",
       "      <td>0.000</td>\n",
       "      <td>0.678</td>\n",
       "      <td>0.322</td>\n",
       "      <td>0.2263</td>\n",
       "      <td>1 bitcoin 2009 worth 22 million</td>\n",
       "    </tr>\n",
       "    <tr>\n",
       "      <th>3</th>\n",
       "      <td>The #Bitcoin Network processed $34,238,678,531...</td>\n",
       "      <td>[the, bitcoin, network, process, 34, 238, 678,...</td>\n",
       "      <td>0.000</td>\n",
       "      <td>0.723</td>\n",
       "      <td>0.277</td>\n",
       "      <td>0.5574</td>\n",
       "      <td>the bitcoin network process 34 238 678 531 wor...</td>\n",
       "    </tr>\n",
       "    <tr>\n",
       "      <th>4</th>\n",
       "      <td>Over 5 million #bitcoin have not moved in half...</td>\n",
       "      <td>[over, 5, million, bitcoin, move, half, decad,...</td>\n",
       "      <td>0.000</td>\n",
       "      <td>0.815</td>\n",
       "      <td>0.185</td>\n",
       "      <td>0.7096</td>\n",
       "      <td>over 5 million bitcoin move half decad more us...</td>\n",
       "    </tr>\n",
       "    <tr>\n",
       "      <th>...</th>\n",
       "      <td>...</td>\n",
       "      <td>...</td>\n",
       "      <td>...</td>\n",
       "      <td>...</td>\n",
       "      <td>...</td>\n",
       "      <td>...</td>\n",
       "      <td>...</td>\n",
       "    </tr>\n",
       "    <tr>\n",
       "      <th>3769</th>\n",
       "      <td>Merci pour ce match, merci de nous faire autan...</td>\n",
       "      <td>[merci, pour, ce, match, merci, de, nou, fair,...</td>\n",
       "      <td>0.056</td>\n",
       "      <td>0.882</td>\n",
       "      <td>0.061</td>\n",
       "      <td>0.0516</td>\n",
       "      <td>merci pour ce match merci de nou fair autant v...</td>\n",
       "    </tr>\n",
       "    <tr>\n",
       "      <th>3770</th>\n",
       "      <td>Celui qui met Argentine gagnant banni à vie 😉</td>\n",
       "      <td>[celui, qui, met, argentin, gagnant, banni, vie]</td>\n",
       "      <td>0.000</td>\n",
       "      <td>1.000</td>\n",
       "      <td>0.000</td>\n",
       "      <td>0.0000</td>\n",
       "      <td>celui qui met argentin gagnant banni vie</td>\n",
       "    </tr>\n",
       "    <tr>\n",
       "      <th>3771</th>\n",
       "      <td>Quel prono France 🇨🇵vs 🇦🇷Argentine?   Je vois ...</td>\n",
       "      <td>[quel, prono, franc, vs, argentin, je, voi, bi...</td>\n",
       "      <td>0.000</td>\n",
       "      <td>1.000</td>\n",
       "      <td>0.000</td>\n",
       "      <td>0.0000</td>\n",
       "      <td>quel prono franc vs argentin je voi bien match...</td>\n",
       "    </tr>\n",
       "    <tr>\n",
       "      <th>3772</th>\n",
       "      <td>@kris We take this scenario everyday 🙏</td>\n",
       "      <td>[kri, we, take, scenario, everyday]</td>\n",
       "      <td>0.000</td>\n",
       "      <td>1.000</td>\n",
       "      <td>0.000</td>\n",
       "      <td>0.0000</td>\n",
       "      <td>kri we take scenario everyday</td>\n",
       "    </tr>\n",
       "    <tr>\n",
       "      <th>3773</th>\n",
       "      <td>@cz_binance We need trust right now</td>\n",
       "      <td>[cz, binanc, we, need, trust, right]</td>\n",
       "      <td>0.000</td>\n",
       "      <td>0.602</td>\n",
       "      <td>0.398</td>\n",
       "      <td>0.5106</td>\n",
       "      <td>cz binanc we need trust right</td>\n",
       "    </tr>\n",
       "  </tbody>\n",
       "</table>\n",
       "<p>3774 rows × 7 columns</p>\n",
       "</div>"
      ],
      "text/plain": [
       "                                                  tweet  \\\n",
       "0     Map of the #bitcoin network   https://t.co/2lm...   \n",
       "1     #Bitcoin went online 14 years ago today!  http...   \n",
       "2        $1 of bitcoin in 2009 is now worth $22 million   \n",
       "3     The #Bitcoin Network processed $34,238,678,531...   \n",
       "4     Over 5 million #bitcoin have not moved in half...   \n",
       "...                                                 ...   \n",
       "3769  Merci pour ce match, merci de nous faire autan...   \n",
       "3770      Celui qui met Argentine gagnant banni à vie 😉   \n",
       "3771  Quel prono France 🇨🇵vs 🇦🇷Argentine?   Je vois ...   \n",
       "3772             @kris We take this scenario everyday 🙏   \n",
       "3773                @cz_binance We need trust right now   \n",
       "\n",
       "                                              cleantext  vader_neg  vader_neu  \\\n",
       "0         [map, bitcoin, network, http, co, 2lmxi3vfsv]      0.000      1.000   \n",
       "1     [bitcoin, went, onlin, 14, year, ago, today, h...      0.000      1.000   \n",
       "2                [1, bitcoin, 2009, worth, 22, million]      0.000      0.678   \n",
       "3     [the, bitcoin, network, process, 34, 238, 678,...      0.000      0.723   \n",
       "4     [over, 5, million, bitcoin, move, half, decad,...      0.000      0.815   \n",
       "...                                                 ...        ...        ...   \n",
       "3769  [merci, pour, ce, match, merci, de, nou, fair,...      0.056      0.882   \n",
       "3770   [celui, qui, met, argentin, gagnant, banni, vie]      0.000      1.000   \n",
       "3771  [quel, prono, franc, vs, argentin, je, voi, bi...      0.000      1.000   \n",
       "3772                [kri, we, take, scenario, everyday]      0.000      1.000   \n",
       "3773               [cz, binanc, we, need, trust, right]      0.000      0.602   \n",
       "\n",
       "      vader_pos  vader_comp                                         cleantext2  \n",
       "0         0.000      0.0000            map bitcoin network http co 2lmxi3vfsv   \n",
       "1         0.000      0.0000  bitcoin went onlin 14 year ago today http co i...  \n",
       "2         0.322      0.2263                   1 bitcoin 2009 worth 22 million   \n",
       "3         0.277      0.5574  the bitcoin network process 34 238 678 531 wor...  \n",
       "4         0.185      0.7096  over 5 million bitcoin move half decad more us...  \n",
       "...         ...         ...                                                ...  \n",
       "3769      0.061      0.0516  merci pour ce match merci de nou fair autant v...  \n",
       "3770      0.000      0.0000          celui qui met argentin gagnant banni vie   \n",
       "3771      0.000      0.0000  quel prono franc vs argentin je voi bien match...  \n",
       "3772      0.000      0.0000                     kri we take scenario everyday   \n",
       "3773      0.398      0.5106                     cz binanc we need trust right   \n",
       "\n",
       "[3774 rows x 7 columns]"
      ]
     },
     "execution_count": 8,
     "metadata": {},
     "output_type": "execute_result"
    }
   ],
   "source": [
    "df2 = compute_vader_scores(df,'cleantext')\n",
    "df2"
   ]
  },
  {
   "cell_type": "code",
   "execution_count": null,
   "metadata": {},
   "outputs": [
    {
     "data": {
      "text/plain": [
       "<AxesSubplot: title={'center': 'sentiment analysis'}>"
      ]
     },
     "execution_count": 9,
     "metadata": {},
     "output_type": "execute_result"
    },
    {
     "data": {
      "image/png": "[encoded data removed]",
      "text/plain": [
       "<Figure size 640x480 with 1 Axes>"
      ]
     },
     "metadata": {},
     "output_type": "display_data"
    }
   ],
   "source": [
    "def getPolarity(text):\n",
    "    return compute_vader_scores(text).sentiment.polarity\n",
    "\n",
    "\n",
    "df2.loc[df2.vader_comp>0,'sentiment_type']='POSITIF'\n",
    "df2.loc[df2.vader_comp==0,'sentiment_type']='NEUTRE'\n",
    "df2.loc[df2.vader_comp<0,'sentiment_type']='NEGATIF'\n",
    "\n",
    "df2.sentiment_type.value_counts().plot(kind='bar',title=\"sentiment analysis\")\n"
   ]
  },
  {
   "cell_type": "code",
   "execution_count": null,
   "metadata": {},
   "outputs": [],
   "source": [
    "class0=[]\n",
    "for i in range(len(df2)):\n",
    "    if df2.loc[i,'vader_neg']>0:\n",
    "        class0+=[0]\n",
    "    elif df2.loc[i,'vader_pos']>0:\n",
    "        class0+=[2]        \n",
    "    else:\n",
    "        class0+=[1]     \n"
   ]
  },
  {
   "cell_type": "code",
   "execution_count": null,
   "metadata": {},
   "outputs": [
    {
     "data": {
      "text/plain": [
       "1    1727\n",
       "2    1089\n",
       "0     958\n",
       "Name: class, dtype: int64"
      ]
     },
     "execution_count": 11,
     "metadata": {},
     "output_type": "execute_result"
    }
   ],
   "source": [
    "df['class']=class0\n",
    "df['class'].value_counts()"
   ]
  },
  {
   "cell_type": "code",
   "execution_count": null,
   "metadata": {},
   "outputs": [
    {
     "name": "stdout",
     "output_type": "stream",
     "text": [
      "Avant tokenisation et Padd  \n",
      " map bitcoin network http co 2lmxi3vfsv \n",
      "Après tokénization \n",
      " [1415    3   78    2    1    0    0    0    0    0    0    0    0    0\n",
      "    0    0    0    0    0    0    0    0    0    0    0    0    0    0\n",
      "    0    0    0    0    0    0    0    0    0    0    0    0    0    0\n",
      "    0    0    0    0    0    0    0    0]\n"
     ]
    }
   ],
   "source": [
    "\n",
    "from tensorflow.keras.preprocessing.text import Tokenizer\n",
    "from tensorflow.keras.preprocessing.sequence import pad_sequences\n",
    "\n",
    "max_words = 5000\n",
    "max_len=50\n",
    "\n",
    "def tokenize_pad_sequences(text):\n",
    "    '''\n",
    "    Cette fonction tokenize pour avoir des integers et met de la même taille avec le pad\n",
    "    '''\n",
    "    # tokenization du texte\n",
    "    tokenizer = Tokenizer(num_words=max_words, lower=True, split=' ')\n",
    "    tokenizer.fit_on_texts(text)\n",
    "    # on transforme le texte en une séquence d'integers \n",
    "    X = tokenizer.texts_to_sequences(text)\n",
    "    # on met la même longueur avec le padding des phrases\n",
    "    X = pad_sequences(X, padding='post', maxlen=max_len)\n",
    "    return X, tokenizer\n",
    "\n",
    "print('Avant tokenisation et Padd  \\n', df['cleantext2'][0])\n",
    "X, tokenizer = tokenize_pad_sequences(df['cleantext2'])\n",
    "print('Après tokénization \\n', X[0])"
   ]
  },
  {
   "cell_type": "code",
   "execution_count": null,
   "metadata": {},
   "outputs": [
    {
     "data": {
      "text/plain": [
       "<AxesSubplot: title={'center': 'Sentiment Analysis'}>"
      ]
     },
     "execution_count": 13,
     "metadata": {},
     "output_type": "execute_result"
    },
    {
     "data": {
      "image/png": "[encoded data removed]",
      "text/plain": [
       "<Figure size 640x480 with 1 Axes>"
      ]
     },
     "metadata": {},
     "output_type": "display_data"
    }
   ],
   "source": [
    "from textblob import TextBlob\n",
    "\n",
    "new_df4=df\n",
    "new_df4['cleantext'] = df['cleantext2'].astype('str')\n",
    "def get_polarity(text):\n",
    "    return TextBlob(text).sentiment.polarity\n",
    "\n",
    "new_df4['Polarity'] = df['cleantext2'].apply(get_polarity)\n",
    "\n",
    "new_df4['Sentiment_Type']=''\n",
    "new_df4.loc[df.Polarity>0,'Sentiment_Type']='POSITIVE'\n",
    "new_df4.loc[df.Polarity==0,'Sentiment_Type']='NEUTRAL'\n",
    "new_df4.loc[df.Polarity<0,'Sentiment_Type']='NEGATIVE'\n",
    "\n",
    "new_df4.Sentiment_Type.value_counts().plot(kind='bar',title=\"Sentiment Analysis\")"
   ]
  },
  {
   "cell_type": "markdown",
   "metadata": {},
   "source": []
  },
  {
   "cell_type": "markdown",
   "metadata": {},
   "source": []
  },
  {
   "attachments": {},
   "cell_type": "markdown",
   "metadata": {},
   "source": [
    "# Analyse des tweets BTC des influenceurs crypto"
   ]
  },
  {
   "cell_type": "code",
   "execution_count": 1,
   "metadata": {},
   "outputs": [
    {
     "name": "stdout",
     "output_type": "stream",
     "text": [
      "Il y a actuellement 1709 tweets positifs sur Bitcoin sur Twitter.\n",
      "Il y a actuellement 588 tweets négatifs sur Bitcoin sur Twitter.\n",
      "Les investisseurs sont confiants pour le Bitcoin actuellement !\n"
     ]
    }
   ],
   "source": [
    "import tweepy\n",
    "import pandas as pd\n",
    "from textblob import TextBlob\n",
    "import warnings\n",
    "warnings.filterwarnings(\"ignore\")\n",
    "\n",
    "# Configuration de l'API Twitter\n",
    "consumer_key = \"88dldRnuq6fLPQKkX8azrCd5p\"\n",
    "consumer_secret = \"WTZDb3JRQUjZVRu6LhQNhIVzoQpZ2Cd2i6ePKnRATeQnBuNx6g\"\n",
    "access_token = \"1435977329524752387-xa4DXdjkxgYNhbBJbdJZgySGC2YjRy\"\n",
    "access_token_secret = \"CneEP3iDzDhiho3UDhAFjnPTvdUBcVAsluoH574urkINb\"\n",
    "\n",
    "# Connexion à l'API\n",
    "auth = tweepy.OAuthHandler(consumer_key, consumer_secret)\n",
    "auth.set_access_token(access_token, access_token_secret)\n",
    "api = tweepy.API(auth)\n",
    "\n",
    "# Recherche des tweets contenant le mot \"Bitcoin\"\n",
    "# Liste des influenceurs\n",
    "influencers = ['DocumentingBTC', 'MartyBent', 'lopp', 'nic__carter', 'Gladstein', 'BTC_Archive', 'natbrunell', '100trillionUSD', 'MessariCrypto', 'aantonop', 'VitalikButerin', 'SatoshiLite', 'NickSzabo4', 'rogerkver', 'aantonop', 'ErikVoorhees', 'brian_armstrong',' bgarlinghouse','cz_binance','bfmCrypto','crypto_futur','PowerHasheur','JulienROMAN13']\n",
    "\n",
    "# Initialisation d'un DataFrame vide\n",
    "df_tweets = pd.DataFrame(columns=['username', 'text', 'date'])\n",
    "\n",
    "# Récupération des tweets de chaque influenceur\n",
    "for influencer in influencers:\n",
    "    tweets = api.user_timeline(screen_name=influencer, count=200)\n",
    "    for tweet in tweets:\n",
    "        df_tweets = df_tweets.append({'username': tweet.user.screen_name, 'text': tweet.text, 'date': tweet.created_at}, ignore_index=True)\n",
    "\n",
    "\n",
    "# Nettoyage des tweets (suppression des mentions, des liens, etc.)\n",
    "df_tweets['text'] = df_tweets['text'].str.replace('@\\w+', '')\n",
    "df_tweets['text'] = df_tweets['text'].str.replace('http\\S+', '')\n",
    "\n",
    "# Vérification du sentiment des tweets\n",
    "df_tweets['polarity'] = df_tweets['text'].apply(lambda x: TextBlob(x).sentiment.polarity)\n",
    "\n",
    "# Sélection des tweets ayant un sentiment positif ou négatif\n",
    "df_positive_tweets = df_tweets[df_tweets['polarity'] > 0]\n",
    "df_negative_tweets = df_tweets[df_tweets['polarity'] < 0]\n",
    "\n",
    "# Affichage des résultats\n",
    "print(\"Il y a actuellement {} tweets positifs sur Bitcoin sur Twitter.\".format(len(df_positive_tweets)))\n",
    "print(\"Il y a actuellement {} tweets négatifs sur Bitcoin sur Twitter.\".format(len(df_negative_tweets)))\n",
    "\n",
    "\n",
    "if len(df_positive_tweets)>len(df_negative_tweets) :\n",
    "    print(\"Les investisseurs sont confiants pour le Bitcoin actuellement !\")\n",
    "    \n",
    "else :\n",
    "    print(\"Les investisseurs sont prudents envers le Bitcoin actuellement !\")\n"
   ]
  },
  {
   "attachments": {},
   "cell_type": "markdown",
   "metadata": {},
   "source": [
    "# Fear and Gread"
   ]
  },
  {
   "cell_type": "code",
   "execution_count": null,
   "metadata": {},
   "outputs": [
    {
     "name": "stdout",
     "output_type": "stream",
     "text": [
      "L'indice Fear and Greed actuel est de: 56\n",
      "L'indice est neutre\n"
     ]
    }
   ],
   "source": [
    "import requests\n",
    "\n",
    "url = \"https://api.alternative.me/fng/\"\n",
    "response = requests.get(url)\n",
    "data = response.json()\n",
    "\n",
    "fng_index = int(data[\"data\"][0][\"value\"])\n",
    "if fng_index <= 25:\n",
    "    print(\"Le marché est trop dans le rouge. Il est temps d'être prudent.\")\n",
    "elif fng_index >= 75:\n",
    "    print(\"Le marché est trop dans le vert. Il est temps d'être vigilant.\")\n",
    "else:\n",
    "    print(\"L'indice Fear and Greed actuel est de:\", fng_index)\n",
    "    \n",
    "    print(\"L'indice est neutre\")\n",
    "\n"
   ]
  },
  {
   "attachments": {},
   "cell_type": "markdown",
   "metadata": {},
   "source": [
    "# Récupération et analyse du DXY"
   ]
  },
  {
   "cell_type": "code",
   "execution_count": 3,
   "metadata": {},
   "outputs": [
    {
     "name": "stdout",
     "output_type": "stream",
     "text": [
      "La tendance actuelle de l'indice DX est : Baisse\n"
     ]
    },
    {
     "ename": "KeyboardInterrupt",
     "evalue": "",
     "output_type": "error",
     "traceback": [
      "\u001b[0;31m---------------------------------------------------------------------------\u001b[0m",
      "\u001b[0;31mKeyboardInterrupt\u001b[0m                         Traceback (most recent call last)",
      "Cell \u001b[0;32mIn[3], line 24\u001b[0m\n\u001b[1;32m     22\u001b[0m \u001b[39mwhile\u001b[39;00m \u001b[39mTrue\u001b[39;00m:\n\u001b[1;32m     23\u001b[0m     check_dxy_trend()\n\u001b[0;32m---> 24\u001b[0m     time\u001b[39m.\u001b[39;49msleep(\u001b[39m24\u001b[39;49m \u001b[39m*\u001b[39;49m \u001b[39m60\u001b[39;49m \u001b[39m*\u001b[39;49m \u001b[39m60\u001b[39;49m) \u001b[39m# attendre 24 heures avant de relancer la vérification\u001b[39;00m\n\u001b[1;32m     28\u001b[0m \u001b[39m######### j'obtiens que des tendances actuelles de baisse ????? Pourquoi ??? Normal ou pas ????\u001b[39;00m\n\u001b[1;32m     29\u001b[0m \n\u001b[1;32m     30\u001b[0m \u001b[39m###### faire l'api de glassnode\u001b[39;00m\n",
      "\u001b[0;31mKeyboardInterrupt\u001b[0m: "
     ]
    }
   ],
   "source": [
    "import requests\n",
    "import json\n",
    "import time\n",
    "\n",
    "def check_dxy_trend():\n",
    "    # API endpoint pour récupérer les données sur l'indice DX\n",
    "    url = \"https://www.alphavantage.co/query?function=DX&symbol=IBM&interval=daily&time_period=10&apikey=VMX2PEHMPL2NR42N\"\n",
    "\n",
    "    # Requête API pour récupérer les données sur l'indice DX\n",
    "    response = requests.get(url)\n",
    "\n",
    "    # Analyse de la réponse JSON\n",
    "    data = json.loads(response.text)\n",
    "    \n",
    "    # Récupération des trois valeurs les plus récentes pour l'indice DX\n",
    "    dx_values = [float(data[\"Technical Analysis: DX\"][date][\"DX\"]) for date in list(data[\"Technical Analysis: DX\"].keys())[:3]]\n",
    "\n",
    "    # Vérification de la tendance en comparant les valeurs actuelles à celles de la veille\n",
    "    trend = \"Hausse\" if all(dx_values[i] <= dx_values[i+1] for i in range(len(dx_values) - 1)) else \"Baisse\"\n",
    "    print(\"La tendance actuelle de l'indice DX est :\", trend)\n",
    "\n",
    "while True:\n",
    "    check_dxy_trend()\n",
    "    time.sleep(24 * 60 * 60) # attendre 24 heures avant de relancer la vérification\n",
    "\n",
    "\n",
    "    \n",
    "######### j'obtiens que des tendances actuelles de baisse ????? Pourquoi ??? Normal ou pas ????\n",
    "\n",
    "\n"
   ]
  },
  {
   "attachments": {},
   "cell_type": "markdown",
   "metadata": {},
   "source": [
    "# Analyse de la FED"
   ]
  },
  {
   "cell_type": "code",
   "execution_count": 4,
   "metadata": {},
   "outputs": [
    {
     "name": "stdout",
     "output_type": "stream",
     "text": [
      "not news for btc actually\n"
     ]
    }
   ],
   "source": [
    "import requests\n",
    "import nltk\n",
    "from selenium import webdriver\n",
    "from bs4 import BeautifulSoup\n",
    "from nltk.sentiment import SentimentIntensityAnalyzer\n",
    "from selenium.webdriver.common.by import By\n",
    "from selenium.webdriver.support.ui import WebDriverWait\n",
    "from selenium.webdriver.support import expected_conditions as EC\n",
    "\n",
    "driver = webdriver.Chrome()\n",
    "driver.implicitly_wait(10)\n",
    "driver.get(\"https://www.federalreserve.gov/newsevents/pressreleases.htm\")\n",
    "\n",
    "# Cliquez sur la case à cocher pour la politique monétaire\n",
    "monetary_policy_checkbox = WebDriverWait(driver, 10).until( \n",
    "    EC.element_to_be_clickable((By.XPATH,'//*[@id=\"content\"]/div[2]/div/div[1]/form/div[4]/div[1]/label/input')))\n",
    "monetary_policy_checkbox.click()\n",
    "\n",
    "submit_checkbox = WebDriverWait(driver, 10).until( \n",
    "    EC.element_to_be_clickable((By.XPATH,'//*[@id=\"content\"]/div[2]/div/div[1]/form/div[5]')))\n",
    "submit_checkbox.click()\n",
    "\n",
    "# Cliquez sur l'article le plus récent\n",
    "recent_article = WebDriverWait(driver, 10).until(\n",
    "    EC.element_to_be_clickable((By.XPATH, '//*[@id=\"article\"]/div[1]/div[1]/div[2]/p[1]/span/a'))\n",
    ")\n",
    "recent_article.click()\n",
    "\n",
    "element = WebDriverWait(driver, 10).until(EC.presence_of_element_located((By.XPATH, \"//*[@id='article']/div[3]\")))\n",
    "text = element.text\n",
    "\n",
    "driver.quit()\n",
    "\n",
    "\n",
    "\n",
    "sentiment_analyzer = SentimentIntensityAnalyzer()\n",
    "sentences = nltk.sent_tokenize(text)\n",
    "for sentence in sentences:\n",
    "    sentiment = sentiment_analyzer.polarity_scores(sentence)['compound']\n",
    "    if (\"bitcoin\" or \"crypto\" or \"cryptomonnaie\" or \"crypto-actifs\") in sentence.lower() and sentiment >= 0.05:\n",
    "        print(\"Good news for bitcoin:\", sentence)\n",
    "        \n",
    "    elif (\"discount rate\" or \"credit rate\" or \"unemployment rate\" or \"inflation\") in sentence.lower() and sentiment >= 0.05:\n",
    "        print(\"Good news for bitcoin actually:\", sentence)\n",
    "        \n",
    "    elif (\"discount rate\" or \"credit rate\" or \"unemployment rate\" or \"inflation\") in sentence.lower() and sentiment <= -0.05:\n",
    "        print(\"Bad news for bitcoin actually:\", sentence)\n",
    "        \n",
    "    elif (\"bitcoin\" or \"crypto\" or \"cryptomonnaie\" or \"crypto-actifs\") in sentence.lower() and sentiment <= -0.05:\n",
    "        print(\"Bad news bitcoin actually:\", sentence)\n",
    "        \n",
    "else :\n",
    "    print(\"not news for btc actually\")\n",
    "\n",
    "\n",
    "\n"
   ]
  },
  {
   "attachments": {},
   "cell_type": "markdown",
   "metadata": {},
   "source": [
    "# Analyse du site web pour connaitre les whales"
   ]
  },
  {
   "cell_type": "code",
   "execution_count": 19,
   "metadata": {},
   "outputs": [
    {
     "name": "stdout",
     "output_type": "stream",
     "text": [
      "#3 is accumulating 0 BTC\n",
      "['Whale Alert: #3 is accumulating 0 BTC']\n",
      "Random is dumping 5 BTC\n",
      "['Whale Alert: Random is dumping 5 BTC']\n",
      "#4 is accumulating 0 BTC\n",
      "['Whale Alert: #4 is accumulating 0 BTC']\n",
      "#5 is accumulating 0 BTC\n",
      "['Whale Alert: #5 is accumulating 0 BTC']\n",
      "#6 is accumulating 0 BTC\n",
      "['Whale Alert: #6 is accumulating 0 BTC']\n",
      "#7 is accumulating 0 BTC\n",
      "['Whale Alert: #7 is accumulating 0 BTC']\n",
      "#8 is accumulating 0 BTC\n",
      "['Whale Alert: #8 is accumulating 0 BTC']\n",
      "binance reserve is accumulating 68200 BTC\n",
      "['Whale Alert: binance reserve is accumulating 68200 BTC']\n",
      "#10 is dumping 0 BTC\n",
      "['Whale Alert: #10 is dumping 0 BTC']\n",
      "#11 is accumulating 0 BTC\n",
      "['Whale Alert: #11 is accumulating 0 BTC']\n",
      "#12 is accumulating 0 BTC\n",
      "['Whale Alert: #12 is accumulating 0 BTC']\n"
     ]
    },
    {
     "ename": "KeyboardInterrupt",
     "evalue": "",
     "output_type": "error",
     "traceback": [
      "\u001b[0;31m---------------------------------------------------------------------------\u001b[0m",
      "\u001b[0;31mKeyboardInterrupt\u001b[0m                         Traceback (most recent call last)",
      "Cell \u001b[0;32mIn[19], line 30\u001b[0m\n\u001b[1;32m     27\u001b[0m check_again \u001b[39m=\u001b[39m \u001b[39mTrue\u001b[39;00m\n\u001b[1;32m     29\u001b[0m \u001b[39mwhile\u001b[39;00m \u001b[39mTrue\u001b[39;00m:\n\u001b[0;32m---> 30\u001b[0m     time\u001b[39m.\u001b[39;49msleep(\u001b[39m1\u001b[39;49m)\n\u001b[1;32m     31\u001b[0m     \u001b[39mwhile\u001b[39;00m check_again:\n\u001b[1;32m     32\u001b[0m         \u001b[39mfor\u001b[39;00m whale \u001b[39min\u001b[39;00m btc_addresses:\n",
      "\u001b[0;31mKeyboardInterrupt\u001b[0m: "
     ]
    }
   ],
   "source": [
    "import pandas\n",
    "import time\n",
    "from datetime import timezone\n",
    "import datetime\n",
    "\n",
    "btc_addresses = {\n",
    "    '#3': '1P5ZEDWTKTFGxQjZphgWPQUpe554WKDfHQ',\n",
    "    'Random': '14m3sd9HCCFJW4LymahJCKMabAxTK4DAqW',\n",
    "    '#4':'1LQoWist8KkaUXSPKZHNvEyfrEkPHzSsCd',\n",
    "    '#5':'bc1qazcm763858nkj2dj986etajv6wquslv8uxwczt',\n",
    "    '#6':'37XuVSEpWW4trkfmvWzegTHQt7BdktSKUs',\n",
    "    '#7':'1FeexV6bAHb8ybZjqQMjJrcCrHGW9sb6uF',\n",
    "    '#8':'bc1qa5wkgaew2dkv56kfvj49j0av5nml45x9ek9hz6',\n",
    "    'binance reserve':'3LYJfcfHPXYJreMsASk2jkn69LWEYKzexb',\n",
    "    '#10':'bc1qd4ysezhmypwty5dnw7c8nqy5h5nxg0xqsvaefd0qn5kq32vwnwqqgv4rzr',\n",
    "    '#11':'1LdRcdxfbSnmCYYNdeYpUnztiYzVfBEQeC',\n",
    "    '#12':'1AC4fMwgY8j9onSbXEWeH6Zan8QGMSdmtA'\n",
    "    }\n",
    "\n",
    "t_time = {}\n",
    "amount = {}\n",
    "\n",
    "for key in btc_addresses:\n",
    "    t_time[key] = 0\n",
    "    amount[key] = 0\n",
    "\n",
    "check_again = True\n",
    "\n",
    "while True:\n",
    "    time.sleep(1)\n",
    "    while check_again:\n",
    "        for whale in btc_addresses:\n",
    "            transactions_url = 'https://blockchain.info/rawaddr/' + btc_addresses[whale]\n",
    "            df               = pandas.read_json(transactions_url)\n",
    "            transactions     = df['txs']\n",
    "            last_time        = transactions[0]['time']\n",
    "            last_amount      = transactions[0]['result']\n",
    "            \n",
    "            if last_time != t_time[whale]:\n",
    "                t_time[whale] = last_time\n",
    "                amount[whale] = last_amount\n",
    "                \n",
    "                if int(last_amount) > 0:\n",
    "                    direction = \"accumule\"\n",
    "                elif int(last_amount) < 0:\n",
    "                    direction = \"vend\"\n",
    "\n",
    "                btc_amount = int((float(abs(last_amount))/100000000))\n",
    "                print(f'{whale} is {direction} {btc_amount} BTC')\n",
    "                messages=[f'Whale Alert: {whale} is {direction} {btc_amount} BTC']\n",
    "                print(messages)\n",
    "\n",
    "            time.sleep(15)\n",
    "\n",
    "        check_again = False\n",
    "\n",
    "    now      = datetime.datetime.now(timezone.utc)\n",
    "    midnight = now.replace(hour=0, minute=0, second=0, microsecond=0)\n",
    "    minutes  = ((now - midnight).seconds) // 60\n",
    "\n",
    "    if (minutes % 60) == 0:\n",
    "        messages=['Whale watcher checking in.']\n",
    "        print(messages)\n",
    "        time.sleep(60)\n",
    "        check_again = True\n",
    "\n"
   ]
  },
  {
   "attachments": {},
   "cell_type": "markdown",
   "metadata": {},
   "source": [
    "# Analyse des tweets de Whale Alert "
   ]
  },
  {
   "cell_type": "code",
   "execution_count": 2,
   "metadata": {},
   "outputs": [
    {
     "name": "stdout",
     "output_type": "stream",
     "text": [
      "Tweet suivant, posté le 2023-02-14 20:57:23+00:00,avec 2 emojis 🚨:\n",
      "- DANGEREUX\n",
      "- 🚨 🚨  1,286 #BTC (28,616,212 USD) transferred from #Coinbase to unknown wallet\n",
      "\n",
      "\n",
      "------------------------\n",
      "\n",
      "Tweet suivant, posté le 2023-02-11 20:44:38+00:00,avec 2 emojis 🚨:\n",
      "- DANGEREUX\n",
      "- 🚨 🚨  2,000 #BTC (43,375,874 USD) transferred from unknown wallet to #Coinbase\n",
      "\n",
      "\n",
      "------------------------\n",
      "\n",
      "Tweet suivant, posté le 2023-02-11 01:58:48+00:00,avec 1 emojis 🚨:\n",
      "- NORMAL\n",
      "- 🚨  1,001 #BTC (21,665,260 USD) transferred from unknown wallet to #Coinbase\n",
      "\n",
      "\n",
      "------------------------\n",
      "\n"
     ]
    }
   ],
   "source": [
    "import tweepy\n",
    "import time\n",
    "\n",
    "# Configuration de l'authentification Twitter\n",
    "auth = tweepy.OAuthHandler(\"88dldRnuq6fLPQKkX8azrCd5p\", \"WTZDb3JRQUjZVRu6LhQNhIVzoQpZ2Cd2i6ePKnRATeQnBuNx6g\")\n",
    "auth.set_access_token(\"1435977329524752387-xa4DXdjkxgYNhbBJbdJZgySGC2YjRy\", \"CneEP3iDzDhiho3UDhAFjnPTvdUBcVAsluoH574urkINb\")\n",
    "\n",
    "# Utilisation de l'authentification pour accéder à l'API Twitter\n",
    "api = tweepy.API(auth)\n",
    "\n",
    "# Récupération des tweets de \"whale_alert\" contenant le #BTC ou #WBTC\n",
    "tweets = api.user_timeline(screen_name=\"whale_alert\", count=200)\n",
    "for tweet in tweets:\n",
    "    if \"#BTC\" in tweet.text or \"#WBTC\" in tweet.text:\n",
    "        # Analyse du tweet pour déterminer s'il est dangereux ou normal\n",
    "        num_emojis = tweet.text.count(\"🚨\")\n",
    "        if num_emojis == 2 or num_emojis == 3:\n",
    "            danger_level = \"DANGEREUX\"\n",
    "        elif num_emojis > 3 :\n",
    "            danger_level = \"TRES DANGEREUX, FLUCTUATION DU BTC A PREVOIR \"\n",
    "        else:\n",
    "            danger_level = \"NORMAL\"\n",
    "            \n",
    "            \n",
    "        text_without_links = tweet.text\n",
    "        for url in tweet.entities.get('urls'):\n",
    "            text_without_links = text_without_links.replace(url['url'], '')\n",
    "\n",
    "            \n",
    "            \n",
    "        # Affichage du tweet en entier avec l'indication de son niveau de danger\n",
    "        print(f\"Tweet suivant, posté le {tweet.created_at},avec {num_emojis} emojis 🚨:\\n- {danger_level}\\n- {text_without_links}\\n------------------------\\n\")\n",
    "\n",
    "# Pause pour ne pas dépasser les limites d'accès à l'API Twitter\n",
    "time.sleep(60)\n"
   ]
  },
  {
   "cell_type": "code",
   "execution_count": 29,
   "metadata": {},
   "outputs": [
    {
     "name": "stdout",
     "output_type": "stream",
     "text": [
      "                                   0\n",
      "0                      Ryan Seacrest\n",
      "1                            Nuggets\n",
      "2                       Raquel Welch\n",
      "3                Arsenal vs Man City\n",
      "4                Dortmund vs Chelsea\n",
      "5              Ohio train derailment\n",
      "6                      Europa League\n",
      "7                   El Paso shooting\n",
      "8   Winnie-the-Pooh: Blood and Honey\n",
      "9                             NASCAR\n",
      "10                     Chiefs parade\n",
      "11                     Mikal Bridges\n",
      "12                   Buffalo shooter\n",
      "13                            Bruins\n",
      "14                      Lana Del Rey\n",
      "15                         Lady Gaga\n",
      "16                      Marc Anthony\n",
      "17                             Bulls\n",
      "18                     Jerry Jarrett\n",
      "19                        Marc Maron\n",
      "Le Bitcoin n'est pas en vogue actuellement.\n"
     ]
    }
   ],
   "source": [
    "from pytrends.request import TrendReq\n",
    "\n",
    "pytrend = TrendReq()\n",
    "# construire une liste de mots clés liés au Bitcoin\n",
    "keywords = [\"bitcoin\", \"BTC\", \"crypto-monnaie\", \"cryptographie\", \"blockchain\", \"mineur de bitcoin\", \"portefeuille bitcoin\",\"Bitcoin\",\"crypto-monnaie\", \"blockchain\", \"mining\", \"wallet\", \"échange\", \"transaction\", \"décentralisation\", \"sécurité\", \"Satoshi Nakamoto\", \"halving\", \"ASIC\", \"nœud\", \"vérification\", \"adresse\", \"clé privée\", \"clé publique\", \"preuve de travail\", \"preuve d'enjeu\", \"investissement\", \"volatilité\", \"marché\", \"réglementation\", \"adoption\", \"frais de transaction\", \"altcoin\", \"hard fork\", \"soft fork\", \"Lightning Network\", \"confidentialité\", \"escrow\", \"anonymat\", \"smart contract\", \"FOMO\", \"FUD\", \"hodl\", \"bull run\", \"bear market\", \"whale\", \"parrainage\", \"plateforme d'échange\", \"hashrate\", \"protocole\", \"white paper\", \"minage en nuage\", \"cold storage\", \"hot wallet\", \"portefeuille matériel\", \"portefeuille logiciel\", \"identité\", \"signature numérique\", \"livret blanc\", \"consensus\", \"mécanisme de consensus\", \"réseau peer-to-peer\", \"infrastructure\", \"crypto-économie\", \"chiffrage\", \"clé secrète\", \"portefeuille mobile\", \"portefeuille papier\", \"sécurité multi-signatures\", \"stockage à froid\", \"stockage à chaud\", \"forks\", \"contrats intelligents\", \"mythes\", \"FOMO\", \"to the moon\", \"gouvernance\", \"chaînes latérales\", \"stabilité\", \"transactions confidentielles\", \"identité numérique\", \"Jeton\", \"ICO\", \"DEX\", \"Bitcoin maximalisme\", \"stratégie d'investissement\", \"portefeuille de diversification\", \"moyen d'échange\", \"réserve de valeur\", \"finance décentralisée\", \"échange décentralisé\", \"échange centralisé\", \"fragmentation de transactions\", \"inflation\", \"ordinateur quantique\", \"bifurcation de la chaîne\", \"fork dur\", \"fork doux\", \"forks intentionnels\", \"forks non intentionnels\", \"hard fork contentieux\", \"protocole de consensus\", \"preuve d'enjeu\", \"preuve de participation\", \"bloc\", \"récompense de bloc\", \"adresse bitcoin\", \"hachage\",\"ETH\",\"AVA\",\"etherium\"]\n",
    "\n",
    "\n",
    "related_queries= pytrend.trending_searches()\n",
    "\n",
    "print(related_queries)\n",
    "\n",
    "data=pd.DataFrame(related_queries)\n",
    "\n",
    "# Vérifier si au moins un mot-clé est présent dans les colonnes de la dataframe data\n",
    "if any(keyword.lower() in data.columns for keyword in keywords):\n",
    "    print(\"Le Bitcoin est en vogue actuellement !\")\n",
    "else:\n",
    "    print(\"Le Bitcoin n'est pas en vogue actuellement.\")\n",
    "\n"
   ]
  },
  {
   "cell_type": "code",
   "execution_count": 1,
   "metadata": {},
   "outputs": [
    {
     "name": "stdout",
     "output_type": "stream",
     "text": [
      "Le Bitcoin est en vogue avec une moyenne de tendance de 75.08\n"
     ]
    }
   ],
   "source": [
    "from pytrends.request import TrendReq\n",
    "\n",
    "# Initialiser l'objet TrendReq avec vos informations de connexion Google\n",
    "pytrends = TrendReq(hl='fr-FR', tz=0)\n",
    "\n",
    "# Définir les termes de recherche et la période\n",
    "kw_list = [\"Bitcoin\",\"blockchain\",\"crypto-monnaie\",\"transaction\", \"décentralisation\"]\n",
    "pytrends.build_payload(kw_list, timeframe='today 1-m')\n",
    "\n",
    "# Récupérer les données de tendance\n",
    "bitcoin_trends = pytrends.interest_over_time()\n",
    "# Calculer la moyenne des tendances pour la période sélectionnée\n",
    "avg_trend = bitcoin_trends.mean()[0]\n",
    "\n",
    "# Afficher la moyenne des tendances\n",
    "if avg_trend > 50:\n",
    "    print(\"Le Bitcoin est en vogue avec une moyenne de tendance de\", avg_trend)\n",
    "else:\n",
    "    print(\"Le Bitcoin n'est pas en vogue avec une moyenne de tendance de\", avg_trend)\n"
   ]
  },
  {
   "cell_type": "markdown",
   "metadata": {},
   "source": []
  },
  {
   "cell_type": "markdown",
   "metadata": {},
   "source": []
  },
  {
   "cell_type": "markdown",
   "metadata": {},
   "source": []
  },
  {
   "cell_type": "markdown",
   "metadata": {},
   "source": []
  }
 ],
 "metadata": {
  "kernelspec": {
   "display_name": "Python 3",
   "language": "python",
   "name": "python3"
  },
  "language_info": {
   "codemirror_mode": {
    "name": "ipython",
    "version": 3
   },
   "file_extension": ".py",
   "mimetype": "text/x-python",
   "name": "python",
   "nbconvert_exporter": "python",
   "pygments_lexer": "ipython3",
   "version": "3.8.9"
  },
  "orig_nbformat": 4,
  "vscode": {
   "interpreter": {
    "hash": "31f2aee4e71d21fbe5cf8b01ff0e069b9275f58929596ceb00d14d90e3e16cd6"
   }
  }
 },
 "nbformat": 4,
 "nbformat_minor": 2
}
