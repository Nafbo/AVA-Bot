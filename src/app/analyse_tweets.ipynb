{
 "cells": [
  {
   "cell_type": "code",
   "execution_count": 1,
   "metadata": {},
   "outputs": [
    {
     "name": "stderr",
     "output_type": "stream",
     "text": [
      "[nltk_data] Downloading package stopwords to\n",
      "[nltk_data]     /Users/adri22/nltk_data...\n",
      "[nltk_data]   Package stopwords is already up-to-date!\n",
      "2023-01-03 22:44:35.403676: I tensorflow/core/platform/cpu_feature_guard.cc:193] This TensorFlow binary is optimized with oneAPI Deep Neural Network Library (oneDNN) to use the following CPU instructions in performance-critical operations:  AVX2 FMA\n",
      "To enable them in other operations, rebuild TensorFlow with the appropriate compiler flags.\n"
     ]
    }
   ],
   "source": [
    "import numpy as np\n",
    "import pandas as pd\n",
    "import os\n",
    "from tqdm import tqdm\n",
    "\n",
    "#pour le preprocessing\n",
    "import re    # Permet d'enlever les emojis\n",
    "import nltk \n",
    "nltk.download(\"stopwords\")\n",
    "from nltk.corpus import stopwords\n",
    "from nltk.stem.porter import *\n",
    "from nltk.sentiment.vader import SentimentIntensityAnalyzer\n",
    "\n",
    "# pour construire le model et l'entrainer\n",
    "from sklearn.model_selection import train_test_split\n",
    "import tensorflow as tf\n",
    "import seaborn as sns\n",
    "\n",
    "#Pour visualiser le résultat\n",
    "import matplotlib.pyplot as plt\n",
    "import matplotlib.patches as mpatches\n"
   ]
  },
  {
   "cell_type": "code",
   "execution_count": 30,
   "metadata": {},
   "outputs": [
    {
     "data": {
      "text/html": [
       "<div>\n",
       "<style scoped>\n",
       "    .dataframe tbody tr th:only-of-type {\n",
       "        vertical-align: middle;\n",
       "    }\n",
       "\n",
       "    .dataframe tbody tr th {\n",
       "        vertical-align: top;\n",
       "    }\n",
       "\n",
       "    .dataframe thead th {\n",
       "        text-align: right;\n",
       "    }\n",
       "</style>\n",
       "<table border=\"1\" class=\"dataframe\">\n",
       "  <thead>\n",
       "    <tr style=\"text-align: right;\">\n",
       "      <th></th>\n",
       "      <th>tweet</th>\n",
       "    </tr>\n",
       "  </thead>\n",
       "  <tbody>\n",
       "    <tr>\n",
       "      <th>0</th>\n",
       "      <td>#Bitcoin went online 14 years ago today!  http...</td>\n",
       "    </tr>\n",
       "    <tr>\n",
       "      <th>1</th>\n",
       "      <td>$1 of bitcoin in 2009 is now worth $22 million</td>\n",
       "    </tr>\n",
       "    <tr>\n",
       "      <th>2</th>\n",
       "      <td>The #Bitcoin Network processed $34,238,678,531...</td>\n",
       "    </tr>\n",
       "    <tr>\n",
       "      <th>3</th>\n",
       "      <td>Over 5 million #bitcoin have not moved in half...</td>\n",
       "    </tr>\n",
       "    <tr>\n",
       "      <th>4</th>\n",
       "      <td>#Bitcoin is trending to $200 trillion  https:/...</td>\n",
       "    </tr>\n",
       "    <tr>\n",
       "      <th>...</th>\n",
       "      <td>...</td>\n",
       "    </tr>\n",
       "    <tr>\n",
       "      <th>2637</th>\n",
       "      <td>💰20,010,000 #USDT (20,178,366 USD) move from u...</td>\n",
       "    </tr>\n",
       "    <tr>\n",
       "      <th>2638</th>\n",
       "      <td>💰25,067,192 #XRP (8,791,893 USD) move from unk...</td>\n",
       "    </tr>\n",
       "    <tr>\n",
       "      <th>2639</th>\n",
       "      <td>💰10,000,000 #USDT (10,069,806 USD) move from u...</td>\n",
       "    </tr>\n",
       "    <tr>\n",
       "      <th>2640</th>\n",
       "      <td>💰2,499,998 #USDC (2,507,655 USD) move from #Bi...</td>\n",
       "    </tr>\n",
       "    <tr>\n",
       "      <th>2641</th>\n",
       "      <td>🚀 🚀250,127,040 #USDT (248,714,020 USD) move fr...</td>\n",
       "    </tr>\n",
       "  </tbody>\n",
       "</table>\n",
       "<p>2642 rows × 1 columns</p>\n",
       "</div>"
      ],
      "text/plain": [
       "                                                  tweet\n",
       "0     #Bitcoin went online 14 years ago today!  http...\n",
       "1        $1 of bitcoin in 2009 is now worth $22 million\n",
       "2     The #Bitcoin Network processed $34,238,678,531...\n",
       "3     Over 5 million #bitcoin have not moved in half...\n",
       "4     #Bitcoin is trending to $200 trillion  https:/...\n",
       "...                                                 ...\n",
       "2637  💰20,010,000 #USDT (20,178,366 USD) move from u...\n",
       "2638  💰25,067,192 #XRP (8,791,893 USD) move from unk...\n",
       "2639  💰10,000,000 #USDT (10,069,806 USD) move from u...\n",
       "2640  💰2,499,998 #USDC (2,507,655 USD) move from #Bi...\n",
       "2641  🚀 🚀250,127,040 #USDT (248,714,020 USD) move fr...\n",
       "\n",
       "[2642 rows x 1 columns]"
      ]
     },
     "execution_count": 30,
     "metadata": {},
     "output_type": "execute_result"
    }
   ],
   "source": [
    "df0 = pd.read_csv('/Users/adri22/Desktop/AVA-Bot/src/app/Bitcoin.csv')\n",
    "df0"
   ]
  },
  {
   "cell_type": "code",
   "execution_count": 31,
   "metadata": {},
   "outputs": [
    {
     "data": {
      "text/html": [
       "<div>\n",
       "<style scoped>\n",
       "    .dataframe tbody tr th:only-of-type {\n",
       "        vertical-align: middle;\n",
       "    }\n",
       "\n",
       "    .dataframe tbody tr th {\n",
       "        vertical-align: top;\n",
       "    }\n",
       "\n",
       "    .dataframe thead th {\n",
       "        text-align: right;\n",
       "    }\n",
       "</style>\n",
       "<table border=\"1\" class=\"dataframe\">\n",
       "  <thead>\n",
       "    <tr style=\"text-align: right;\">\n",
       "      <th></th>\n",
       "      <th>tweet</th>\n",
       "    </tr>\n",
       "  </thead>\n",
       "  <tbody>\n",
       "    <tr>\n",
       "      <th>0</th>\n",
       "      <td>#Bitcoin went online 14 years ago today!  http...</td>\n",
       "    </tr>\n",
       "    <tr>\n",
       "      <th>1</th>\n",
       "      <td>$1 of bitcoin in 2009 is now worth $22 million</td>\n",
       "    </tr>\n",
       "    <tr>\n",
       "      <th>2</th>\n",
       "      <td>The #Bitcoin Network processed $34,238,678,531...</td>\n",
       "    </tr>\n",
       "    <tr>\n",
       "      <th>3</th>\n",
       "      <td>Over 5 million #bitcoin have not moved in half...</td>\n",
       "    </tr>\n",
       "    <tr>\n",
       "      <th>4</th>\n",
       "      <td>#Bitcoin is trending to $200 trillion  https:/...</td>\n",
       "    </tr>\n",
       "    <tr>\n",
       "      <th>...</th>\n",
       "      <td>...</td>\n",
       "    </tr>\n",
       "    <tr>\n",
       "      <th>2637</th>\n",
       "      <td>💰20,010,000 #USDT (20,178,366 USD) move from u...</td>\n",
       "    </tr>\n",
       "    <tr>\n",
       "      <th>2638</th>\n",
       "      <td>💰25,067,192 #XRP (8,791,893 USD) move from unk...</td>\n",
       "    </tr>\n",
       "    <tr>\n",
       "      <th>2639</th>\n",
       "      <td>💰10,000,000 #USDT (10,069,806 USD) move from u...</td>\n",
       "    </tr>\n",
       "    <tr>\n",
       "      <th>2640</th>\n",
       "      <td>💰2,499,998 #USDC (2,507,655 USD) move from #Bi...</td>\n",
       "    </tr>\n",
       "    <tr>\n",
       "      <th>2641</th>\n",
       "      <td>🚀 🚀250,127,040 #USDT (248,714,020 USD) move fr...</td>\n",
       "    </tr>\n",
       "  </tbody>\n",
       "</table>\n",
       "<p>2642 rows × 1 columns</p>\n",
       "</div>"
      ],
      "text/plain": [
       "                                                  tweet\n",
       "0     #Bitcoin went online 14 years ago today!  http...\n",
       "1        $1 of bitcoin in 2009 is now worth $22 million\n",
       "2     The #Bitcoin Network processed $34,238,678,531...\n",
       "3     Over 5 million #bitcoin have not moved in half...\n",
       "4     #Bitcoin is trending to $200 trillion  https:/...\n",
       "...                                                 ...\n",
       "2637  💰20,010,000 #USDT (20,178,366 USD) move from u...\n",
       "2638  💰25,067,192 #XRP (8,791,893 USD) move from unk...\n",
       "2639  💰10,000,000 #USDT (10,069,806 USD) move from u...\n",
       "2640  💰2,499,998 #USDC (2,507,655 USD) move from #Bi...\n",
       "2641  🚀 🚀250,127,040 #USDT (248,714,020 USD) move fr...\n",
       "\n",
       "[2642 rows x 1 columns]"
      ]
     },
     "execution_count": 31,
     "metadata": {},
     "output_type": "execute_result"
    }
   ],
   "source": [
    "df=df0[['tweet']][0:20000]\n",
    "df"
   ]
  },
  {
   "cell_type": "code",
   "execution_count": 32,
   "metadata": {},
   "outputs": [],
   "source": [
    "def tweet_to_words(tweet):\n",
    "    ''' Permet de convertir les tweets en une séquence de mots'''\n",
    "    \n",
    "\n",
    "    text = tweet.lower()\n",
    "    # enlève les caractères\n",
    "    text = re.sub(r\"[^a-zA-Z0-9]\", \" \", text)\n",
    "    # on tokenize\n",
    "    words = text.split()\n",
    "    # on enlève les stopwords\n",
    "    words = [w for w in words if w not in stopwords.words(\"english\")]\n",
    "    # on applique stemming\n",
    "    words = [PorterStemmer().stem(w) for w in words]\n",
    "\n",
    "    return words"
   ]
  },
  {
   "cell_type": "code",
   "execution_count": 33,
   "metadata": {},
   "outputs": [
    {
     "name": "stderr",
     "output_type": "stream",
     "text": [
      "100%|██████████| 2642/2642 [00:25<00:00, 102.53it/s]\n"
     ]
    },
    {
     "data": {
      "text/html": [
       "<div>\n",
       "<style scoped>\n",
       "    .dataframe tbody tr th:only-of-type {\n",
       "        vertical-align: middle;\n",
       "    }\n",
       "\n",
       "    .dataframe tbody tr th {\n",
       "        vertical-align: top;\n",
       "    }\n",
       "\n",
       "    .dataframe thead th {\n",
       "        text-align: right;\n",
       "    }\n",
       "</style>\n",
       "<table border=\"1\" class=\"dataframe\">\n",
       "  <thead>\n",
       "    <tr style=\"text-align: right;\">\n",
       "      <th></th>\n",
       "      <th>tweet</th>\n",
       "      <th>cleantext</th>\n",
       "    </tr>\n",
       "  </thead>\n",
       "  <tbody>\n",
       "    <tr>\n",
       "      <th>0</th>\n",
       "      <td>#Bitcoin went online 14 years ago today!  http...</td>\n",
       "      <td>[bitcoin, went, onlin, 14, year, ago, today, h...</td>\n",
       "    </tr>\n",
       "    <tr>\n",
       "      <th>1</th>\n",
       "      <td>$1 of bitcoin in 2009 is now worth $22 million</td>\n",
       "      <td>[1, bitcoin, 2009, worth, 22, million]</td>\n",
       "    </tr>\n",
       "    <tr>\n",
       "      <th>2</th>\n",
       "      <td>The #Bitcoin Network processed $34,238,678,531...</td>\n",
       "      <td>[bitcoin, network, process, 34, 238, 678, 531,...</td>\n",
       "    </tr>\n",
       "    <tr>\n",
       "      <th>3</th>\n",
       "      <td>Over 5 million #bitcoin have not moved in half...</td>\n",
       "      <td>[5, million, bitcoin, move, half, decad, user,...</td>\n",
       "    </tr>\n",
       "    <tr>\n",
       "      <th>4</th>\n",
       "      <td>#Bitcoin is trending to $200 trillion  https:/...</td>\n",
       "      <td>[bitcoin, trend, 200, trillion, http, co, qf64...</td>\n",
       "    </tr>\n",
       "    <tr>\n",
       "      <th>...</th>\n",
       "      <td>...</td>\n",
       "      <td>...</td>\n",
       "    </tr>\n",
       "    <tr>\n",
       "      <th>2637</th>\n",
       "      <td>💰20,010,000 #USDT (20,178,366 USD) move from u...</td>\n",
       "      <td>[20, 010, 000, usdt, 20, 178, 366, usd, move, ...</td>\n",
       "    </tr>\n",
       "    <tr>\n",
       "      <th>2638</th>\n",
       "      <td>💰25,067,192 #XRP (8,791,893 USD) move from unk...</td>\n",
       "      <td>[25, 067, 192, xrp, 8, 791, 893, usd, move, un...</td>\n",
       "    </tr>\n",
       "    <tr>\n",
       "      <th>2639</th>\n",
       "      <td>💰10,000,000 #USDT (10,069,806 USD) move from u...</td>\n",
       "      <td>[10, 000, 000, usdt, 10, 069, 806, usd, move, ...</td>\n",
       "    </tr>\n",
       "    <tr>\n",
       "      <th>2640</th>\n",
       "      <td>💰2,499,998 #USDC (2,507,655 USD) move from #Bi...</td>\n",
       "      <td>[2, 499, 998, usdc, 2, 507, 655, usd, move, bi...</td>\n",
       "    </tr>\n",
       "    <tr>\n",
       "      <th>2641</th>\n",
       "      <td>🚀 🚀250,127,040 #USDT (248,714,020 USD) move fr...</td>\n",
       "      <td>[250, 127, 040, usdt, 248, 714, 020, usd, move...</td>\n",
       "    </tr>\n",
       "  </tbody>\n",
       "</table>\n",
       "<p>2642 rows × 2 columns</p>\n",
       "</div>"
      ],
      "text/plain": [
       "                                                  tweet  \\\n",
       "0     #Bitcoin went online 14 years ago today!  http...   \n",
       "1        $1 of bitcoin in 2009 is now worth $22 million   \n",
       "2     The #Bitcoin Network processed $34,238,678,531...   \n",
       "3     Over 5 million #bitcoin have not moved in half...   \n",
       "4     #Bitcoin is trending to $200 trillion  https:/...   \n",
       "...                                                 ...   \n",
       "2637  💰20,010,000 #USDT (20,178,366 USD) move from u...   \n",
       "2638  💰25,067,192 #XRP (8,791,893 USD) move from unk...   \n",
       "2639  💰10,000,000 #USDT (10,069,806 USD) move from u...   \n",
       "2640  💰2,499,998 #USDC (2,507,655 USD) move from #Bi...   \n",
       "2641  🚀 🚀250,127,040 #USDT (248,714,020 USD) move fr...   \n",
       "\n",
       "                                              cleantext  \n",
       "0     [bitcoin, went, onlin, 14, year, ago, today, h...  \n",
       "1                [1, bitcoin, 2009, worth, 22, million]  \n",
       "2     [bitcoin, network, process, 34, 238, 678, 531,...  \n",
       "3     [5, million, bitcoin, move, half, decad, user,...  \n",
       "4     [bitcoin, trend, 200, trillion, http, co, qf64...  \n",
       "...                                                 ...  \n",
       "2637  [20, 010, 000, usdt, 20, 178, 366, usd, move, ...  \n",
       "2638  [25, 067, 192, xrp, 8, 791, 893, usd, move, un...  \n",
       "2639  [10, 000, 000, usdt, 10, 069, 806, usd, move, ...  \n",
       "2640  [2, 499, 998, usdc, 2, 507, 655, usd, move, bi...  \n",
       "2641  [250, 127, 040, usdt, 248, 714, 020, usd, move...  \n",
       "\n",
       "[2642 rows x 2 columns]"
      ]
     },
     "execution_count": 33,
     "metadata": {},
     "output_type": "execute_result"
    }
   ],
   "source": [
    "cleantext=[]\n",
    "#tqdm permet d'avoir la bare de progression\n",
    "for item in tqdm(df['tweet']):\n",
    "    words=tweet_to_words(item)\n",
    "    cleantext+=[words]\n",
    "df['cleantext']=cleantext\n",
    "df"
   ]
  },
  {
   "cell_type": "code",
   "execution_count": 34,
   "metadata": {},
   "outputs": [],
   "source": [
    "def unlist(list):\n",
    "    words=''\n",
    "    for item in list:\n",
    "        words+=item+' '\n",
    "    return words"
   ]
  },
  {
   "cell_type": "code",
   "execution_count": 35,
   "metadata": {},
   "outputs": [],
   "source": [
    "def compute_vader_scores(df, label):\n",
    "    sid = SentimentIntensityAnalyzer()\n",
    "    df[\"vader_neg\"] = df[label].apply(lambda x: sid.polarity_scores(unlist(x))[\"neg\"])\n",
    "    df[\"vader_neu\"] = df[label].apply(lambda x: sid.polarity_scores(unlist(x))[\"neu\"])\n",
    "    df[\"vader_pos\"] = df[label].apply(lambda x: sid.polarity_scores(unlist(x))[\"pos\"])\n",
    "    df[\"vader_comp\"] = df[label].apply(lambda x: sid.polarity_scores(unlist(x))[\"compound\"])\n",
    "    df['cleantext2'] = df[label].apply(lambda x: unlist(x))\n",
    "    return df\n",
    "\n",
    "#vader permet d'avoir les sentiments des tweets"
   ]
  },
  {
   "cell_type": "code",
   "execution_count": 36,
   "metadata": {},
   "outputs": [
    {
     "data": {
      "text/html": [
       "<div>\n",
       "<style scoped>\n",
       "    .dataframe tbody tr th:only-of-type {\n",
       "        vertical-align: middle;\n",
       "    }\n",
       "\n",
       "    .dataframe tbody tr th {\n",
       "        vertical-align: top;\n",
       "    }\n",
       "\n",
       "    .dataframe thead th {\n",
       "        text-align: right;\n",
       "    }\n",
       "</style>\n",
       "<table border=\"1\" class=\"dataframe\">\n",
       "  <thead>\n",
       "    <tr style=\"text-align: right;\">\n",
       "      <th></th>\n",
       "      <th>tweet</th>\n",
       "      <th>cleantext</th>\n",
       "      <th>vader_neg</th>\n",
       "      <th>vader_neu</th>\n",
       "      <th>vader_pos</th>\n",
       "      <th>vader_comp</th>\n",
       "      <th>cleantext2</th>\n",
       "    </tr>\n",
       "  </thead>\n",
       "  <tbody>\n",
       "    <tr>\n",
       "      <th>0</th>\n",
       "      <td>#Bitcoin went online 14 years ago today!  http...</td>\n",
       "      <td>[bitcoin, went, onlin, 14, year, ago, today, h...</td>\n",
       "      <td>0.0</td>\n",
       "      <td>1.000</td>\n",
       "      <td>0.000</td>\n",
       "      <td>0.0000</td>\n",
       "      <td>bitcoin went onlin 14 year ago today http co i...</td>\n",
       "    </tr>\n",
       "    <tr>\n",
       "      <th>1</th>\n",
       "      <td>$1 of bitcoin in 2009 is now worth $22 million</td>\n",
       "      <td>[1, bitcoin, 2009, worth, 22, million]</td>\n",
       "      <td>0.0</td>\n",
       "      <td>0.678</td>\n",
       "      <td>0.322</td>\n",
       "      <td>0.2263</td>\n",
       "      <td>1 bitcoin 2009 worth 22 million</td>\n",
       "    </tr>\n",
       "    <tr>\n",
       "      <th>2</th>\n",
       "      <td>The #Bitcoin Network processed $34,238,678,531...</td>\n",
       "      <td>[bitcoin, network, process, 34, 238, 678, 531,...</td>\n",
       "      <td>0.0</td>\n",
       "      <td>0.705</td>\n",
       "      <td>0.295</td>\n",
       "      <td>0.5574</td>\n",
       "      <td>bitcoin network process 34 238 678 531 worth t...</td>\n",
       "    </tr>\n",
       "    <tr>\n",
       "      <th>3</th>\n",
       "      <td>Over 5 million #bitcoin have not moved in half...</td>\n",
       "      <td>[5, million, bitcoin, move, half, decad, user,...</td>\n",
       "      <td>0.0</td>\n",
       "      <td>0.796</td>\n",
       "      <td>0.204</td>\n",
       "      <td>0.7096</td>\n",
       "      <td>5 million bitcoin move half decad user everyda...</td>\n",
       "    </tr>\n",
       "    <tr>\n",
       "      <th>4</th>\n",
       "      <td>#Bitcoin is trending to $200 trillion  https:/...</td>\n",
       "      <td>[bitcoin, trend, 200, trillion, http, co, qf64...</td>\n",
       "      <td>0.0</td>\n",
       "      <td>1.000</td>\n",
       "      <td>0.000</td>\n",
       "      <td>0.0000</td>\n",
       "      <td>bitcoin trend 200 trillion http co qf64gud6gt</td>\n",
       "    </tr>\n",
       "    <tr>\n",
       "      <th>...</th>\n",
       "      <td>...</td>\n",
       "      <td>...</td>\n",
       "      <td>...</td>\n",
       "      <td>...</td>\n",
       "      <td>...</td>\n",
       "      <td>...</td>\n",
       "      <td>...</td>\n",
       "    </tr>\n",
       "    <tr>\n",
       "      <th>2637</th>\n",
       "      <td>💰20,010,000 #USDT (20,178,366 USD) move from u...</td>\n",
       "      <td>[20, 010, 000, usdt, 20, 178, 366, usd, move, ...</td>\n",
       "      <td>0.0</td>\n",
       "      <td>1.000</td>\n",
       "      <td>0.000</td>\n",
       "      <td>0.0000</td>\n",
       "      <td>20 010 000 usdt 20 178 366 usd move unknown wa...</td>\n",
       "    </tr>\n",
       "    <tr>\n",
       "      <th>2638</th>\n",
       "      <td>💰25,067,192 #XRP (8,791,893 USD) move from unk...</td>\n",
       "      <td>[25, 067, 192, xrp, 8, 791, 893, usd, move, un...</td>\n",
       "      <td>0.0</td>\n",
       "      <td>1.000</td>\n",
       "      <td>0.000</td>\n",
       "      <td>0.0000</td>\n",
       "      <td>25 067 192 xrp 8 791 893 usd move unknown wall...</td>\n",
       "    </tr>\n",
       "    <tr>\n",
       "      <th>2639</th>\n",
       "      <td>💰10,000,000 #USDT (10,069,806 USD) move from u...</td>\n",
       "      <td>[10, 000, 000, usdt, 10, 069, 806, usd, move, ...</td>\n",
       "      <td>0.0</td>\n",
       "      <td>1.000</td>\n",
       "      <td>0.000</td>\n",
       "      <td>0.0000</td>\n",
       "      <td>10 000 000 usdt 10 069 806 usd move unknown wa...</td>\n",
       "    </tr>\n",
       "    <tr>\n",
       "      <th>2640</th>\n",
       "      <td>💰2,499,998 #USDC (2,507,655 USD) move from #Bi...</td>\n",
       "      <td>[2, 499, 998, usdc, 2, 507, 655, usd, move, bi...</td>\n",
       "      <td>0.0</td>\n",
       "      <td>1.000</td>\n",
       "      <td>0.000</td>\n",
       "      <td>0.0000</td>\n",
       "      <td>2 499 998 usdc 2 507 655 usd move bitfinex unk...</td>\n",
       "    </tr>\n",
       "    <tr>\n",
       "      <th>2641</th>\n",
       "      <td>🚀 🚀250,127,040 #USDT (248,714,020 USD) move fr...</td>\n",
       "      <td>[250, 127, 040, usdt, 248, 714, 020, usd, move...</td>\n",
       "      <td>0.0</td>\n",
       "      <td>1.000</td>\n",
       "      <td>0.000</td>\n",
       "      <td>0.0000</td>\n",
       "      <td>250 127 040 usdt 248 714 020 usd move binanc b...</td>\n",
       "    </tr>\n",
       "  </tbody>\n",
       "</table>\n",
       "<p>2642 rows × 7 columns</p>\n",
       "</div>"
      ],
      "text/plain": [
       "                                                  tweet  \\\n",
       "0     #Bitcoin went online 14 years ago today!  http...   \n",
       "1        $1 of bitcoin in 2009 is now worth $22 million   \n",
       "2     The #Bitcoin Network processed $34,238,678,531...   \n",
       "3     Over 5 million #bitcoin have not moved in half...   \n",
       "4     #Bitcoin is trending to $200 trillion  https:/...   \n",
       "...                                                 ...   \n",
       "2637  💰20,010,000 #USDT (20,178,366 USD) move from u...   \n",
       "2638  💰25,067,192 #XRP (8,791,893 USD) move from unk...   \n",
       "2639  💰10,000,000 #USDT (10,069,806 USD) move from u...   \n",
       "2640  💰2,499,998 #USDC (2,507,655 USD) move from #Bi...   \n",
       "2641  🚀 🚀250,127,040 #USDT (248,714,020 USD) move fr...   \n",
       "\n",
       "                                              cleantext  vader_neg  vader_neu  \\\n",
       "0     [bitcoin, went, onlin, 14, year, ago, today, h...        0.0      1.000   \n",
       "1                [1, bitcoin, 2009, worth, 22, million]        0.0      0.678   \n",
       "2     [bitcoin, network, process, 34, 238, 678, 531,...        0.0      0.705   \n",
       "3     [5, million, bitcoin, move, half, decad, user,...        0.0      0.796   \n",
       "4     [bitcoin, trend, 200, trillion, http, co, qf64...        0.0      1.000   \n",
       "...                                                 ...        ...        ...   \n",
       "2637  [20, 010, 000, usdt, 20, 178, 366, usd, move, ...        0.0      1.000   \n",
       "2638  [25, 067, 192, xrp, 8, 791, 893, usd, move, un...        0.0      1.000   \n",
       "2639  [10, 000, 000, usdt, 10, 069, 806, usd, move, ...        0.0      1.000   \n",
       "2640  [2, 499, 998, usdc, 2, 507, 655, usd, move, bi...        0.0      1.000   \n",
       "2641  [250, 127, 040, usdt, 248, 714, 020, usd, move...        0.0      1.000   \n",
       "\n",
       "      vader_pos  vader_comp                                         cleantext2  \n",
       "0         0.000      0.0000  bitcoin went onlin 14 year ago today http co i...  \n",
       "1         0.322      0.2263                   1 bitcoin 2009 worth 22 million   \n",
       "2         0.295      0.5574  bitcoin network process 34 238 678 531 worth t...  \n",
       "3         0.204      0.7096  5 million bitcoin move half decad user everyda...  \n",
       "4         0.000      0.0000     bitcoin trend 200 trillion http co qf64gud6gt   \n",
       "...         ...         ...                                                ...  \n",
       "2637      0.000      0.0000  20 010 000 usdt 20 178 366 usd move unknown wa...  \n",
       "2638      0.000      0.0000  25 067 192 xrp 8 791 893 usd move unknown wall...  \n",
       "2639      0.000      0.0000  10 000 000 usdt 10 069 806 usd move unknown wa...  \n",
       "2640      0.000      0.0000  2 499 998 usdc 2 507 655 usd move bitfinex unk...  \n",
       "2641      0.000      0.0000  250 127 040 usdt 248 714 020 usd move binanc b...  \n",
       "\n",
       "[2642 rows x 7 columns]"
      ]
     },
     "execution_count": 36,
     "metadata": {},
     "output_type": "execute_result"
    }
   ],
   "source": [
    "df2 = compute_vader_scores(df,'cleantext')\n",
    "df2"
   ]
  },
  {
   "attachments": {},
   "cell_type": "markdown",
   "metadata": {},
   "source": [
    "# Utilisation de Vader"
   ]
  },
  {
   "cell_type": "code",
   "execution_count": 37,
   "metadata": {},
   "outputs": [
    {
     "data": {
      "text/plain": [
       "<AxesSubplot: title={'center': 'sentiment analysis'}>"
      ]
     },
     "execution_count": 37,
     "metadata": {},
     "output_type": "execute_result"
    },
    {
     "data": {
      "image/png": "[encoded data removed]",
      "text/plain": [
       "<Figure size 640x480 with 1 Axes>"
      ]
     },
     "metadata": {},
     "output_type": "display_data"
    }
   ],
   "source": [
    "\n",
    "\n",
    "\n",
    "\n",
    "df2.loc[df2.vader_comp>0,'sentiment_type']='POSITIVE'\n",
    "df2.loc[df2.vader_comp==0,'sentiment_type']='NEUTRAL'\n",
    "df2.loc[df2.vader_comp<0,'sentiment_type']='NEGATIVE'\n",
    "\n",
    "df2.sentiment_type.value_counts().plot(kind='bar',title=\"sentiment analysis\")\n"
   ]
  },
  {
   "attachments": {},
   "cell_type": "markdown",
   "metadata": {},
   "source": [
    "# Utilisation de TextBlob"
   ]
  },
  {
   "cell_type": "code",
   "execution_count": 38,
   "metadata": {},
   "outputs": [],
   "source": [
    "from textblob import TextBlob\n",
    "\n",
    "new_df=df\n",
    "new_df['tweet'] = df['tweet'].astype('str')\n",
    "def get_polarity(text):\n",
    "    return TextBlob(text).sentiment.polarity\n",
    "\n",
    "new_df['Polarity'] = df['tweet'].apply(get_polarity)"
   ]
  },
  {
   "cell_type": "code",
   "execution_count": 39,
   "metadata": {},
   "outputs": [],
   "source": [
    "new_df['Sentiment_Type']=''\n",
    "new_df.loc[df.Polarity>0,'Sentiment_Type']='POSITIVE'\n",
    "new_df.loc[df.Polarity==0,'Sentiment_Type']='NEUTRAL'\n",
    "new_df.loc[df.Polarity<0,'Sentiment_Type']='NEGATIVE'"
   ]
  },
  {
   "cell_type": "code",
   "execution_count": 40,
   "metadata": {},
   "outputs": [
    {
     "data": {
      "text/plain": [
       "<AxesSubplot: title={'center': 'Sentiment Analysis'}>"
      ]
     },
     "execution_count": 40,
     "metadata": {},
     "output_type": "execute_result"
    },
    {
     "data": {
      "image/png": "[encoded data removed]",
      "text/plain": [
       "<Figure size 640x480 with 1 Axes>"
      ]
     },
     "metadata": {},
     "output_type": "display_data"
    }
   ],
   "source": [
    "new_df.Sentiment_Type.value_counts().plot(kind='bar',title=\"Sentiment Analysis\")\n"
   ]
  },
  {
   "attachments": {},
   "cell_type": "markdown",
   "metadata": {},
   "source": [
    "# Utilisation de Vader sans clean le text"
   ]
  },
  {
   "cell_type": "code",
   "execution_count": 42,
   "metadata": {},
   "outputs": [
    {
     "name": "stderr",
     "output_type": "stream",
     "text": [
      "[nltk_data] Downloading package vader_lexicon to\n",
      "[nltk_data]     /Users/adri22/nltk_data...\n",
      "[nltk_data]   Package vader_lexicon is already up-to-date!\n"
     ]
    },
    {
     "data": {
      "text/plain": [
       "<AxesSubplot: title={'center': 'sentiment analysis'}>"
      ]
     },
     "execution_count": 42,
     "metadata": {},
     "output_type": "execute_result"
    },
    {
     "data": {
      "image/png": "[encoded data removed]",
      "text/plain": [
       "<Figure size 640x480 with 1 Axes>"
      ]
     },
     "metadata": {},
     "output_type": "display_data"
    }
   ],
   "source": [
    "nltk.download('vader_lexicon')\n",
    "sid = SentimentIntensityAnalyzer()\n",
    "\n",
    "new_df['scores'] = df['tweet'].apply(lambda tweet: sid.polarity_scores(tweet))\n",
    "\n",
    "new_df['compound'] = new_df['scores'].apply(lambda score_dict: score_dict['compound'])\n",
    "new_df['sentiment_type']=''\n",
    "new_df.loc[df.compound>0,'sentiment_type']='POSITIVE'\n",
    "new_df.loc[df.compound==0,'sentiment_type']='NEUTRAL'\n",
    "new_df.loc[df.compound<0,'sentiment_type']='NEGATIVE'\n",
    "\n",
    "new_df.sentiment_type.value_counts().plot(kind='bar',title=\"sentiment analysis\")\n"
   ]
  },
  {
   "cell_type": "code",
   "execution_count": 43,
   "metadata": {},
   "outputs": [],
   "source": [
    "class0=[]\n",
    "for i in range(len(df2)):\n",
    "    if df2.loc[i,'vader_neg']>0:\n",
    "        class0+=[0]\n",
    "    elif df2.loc[i,'vader_pos']>0:\n",
    "        class0+=[2]        \n",
    "    else:\n",
    "        class0+=[1]     \n"
   ]
  },
  {
   "cell_type": "code",
   "execution_count": 44,
   "metadata": {},
   "outputs": [
    {
     "data": {
      "text/plain": [
       "1    1686\n",
       "2     539\n",
       "0     417\n",
       "Name: class, dtype: int64"
      ]
     },
     "execution_count": 44,
     "metadata": {},
     "output_type": "execute_result"
    }
   ],
   "source": [
    "df['class']=class0\n",
    "df['class'].value_counts()"
   ]
  },
  {
   "cell_type": "code",
   "execution_count": 45,
   "metadata": {},
   "outputs": [
    {
     "name": "stdout",
     "output_type": "stream",
     "text": [
      "Avant tokenisation et Padd  \n",
      " bitcoin went onlin 14 year ago today http co ifxugbgnj \n",
      "Après tokénization \n",
      " [  18  905 1672   57   44  147  202    2    1 3435    0    0    0    0\n",
      "    0    0    0    0    0    0    0    0    0    0    0    0    0    0\n",
      "    0    0    0    0    0    0    0    0    0    0    0    0    0    0\n",
      "    0    0    0    0    0    0    0    0]\n"
     ]
    }
   ],
   "source": [
    "\n",
    "from tensorflow.keras.preprocessing.text import Tokenizer\n",
    "from tensorflow.keras.preprocessing.sequence import pad_sequences\n",
    "\n",
    "max_words = 5000\n",
    "max_len=50\n",
    "\n",
    "def tokenize_pad_sequences(text):\n",
    "    '''\n",
    "    Cette fonction tokenize pour avoir des integers et met de la même taille avec le pad\n",
    "    '''\n",
    "    # tokenization du texte\n",
    "    tokenizer = Tokenizer(num_words=max_words, lower=True, split=' ')\n",
    "    tokenizer.fit_on_texts(text)\n",
    "    # on transforme le texte en une séquence d'integers \n",
    "    X = tokenizer.texts_to_sequences(text)\n",
    "    # on met la même longueur avec le padding des phrases\n",
    "    X = pad_sequences(X, padding='post', maxlen=max_len)\n",
    "    return X, tokenizer\n",
    "\n",
    "print('Avant tokenisation et Padd  \\n', df['cleantext2'][0])\n",
    "X, tokenizer = tokenize_pad_sequences(df['cleantext2'])\n",
    "print('Après tokénization \\n', X[0])"
   ]
  },
  {
   "cell_type": "code",
   "execution_count": 46,
   "metadata": {},
   "outputs": [
    {
     "name": "stdout",
     "output_type": "stream",
     "text": [
      "Train Set:  (1584, 50) (1584, 3)\n",
      "Validation Set:  (529, 50) (529, 3)\n",
      "Test Set:  (529, 50) (529, 3)\n"
     ]
    }
   ],
   "source": [
    "y = pd.get_dummies(df['class'])\n",
    "X_train, X_test, y_train, y_test = train_test_split(X, y, test_size=0.2, random_state=1)\n",
    "X_train, X_val, y_train, y_val = train_test_split(X_train, y_train, test_size=0.25, random_state=1)\n",
    "\n",
    "print('Train Set: ', X_train.shape, y_train.shape)\n",
    "print('Validation Set: ', X_val.shape, y_val.shape)\n",
    "print('Test Set: ', X_test.shape, y_test.shape)"
   ]
  },
  {
   "cell_type": "code",
   "execution_count": 47,
   "metadata": {},
   "outputs": [],
   "source": [
    "import tensorflow.keras.backend as K\n",
    "\n",
    "def f1_score(precision, recall):\n",
    "    ''' calcule la precision '''\n",
    "    \n",
    "    f1_val = 2*(precision*recall)/(precision+recall+K.epsilon())\n",
    "    print(f1_val)\n",
    "    return f1_val\n"
   ]
  },
  {
   "cell_type": "code",
   "execution_count": 48,
   "metadata": {},
   "outputs": [],
   "source": [
    "from tensorflow.keras.models import Sequential\n",
    "from tensorflow.keras.layers import Embedding, Conv1D, MaxPooling1D, Bidirectional, LSTM, Dense, Dropout, Flatten\n",
    "from tensorflow.keras.metrics import Precision, Recall\n",
    "from tensorflow.keras.optimizers import SGD\n",
    "from tensorflow.keras.optimizers import RMSprop\n",
    "from tensorflow.keras import datasets\n",
    "from tensorflow.keras.callbacks import LearningRateScheduler\n",
    "from tensorflow.keras.callbacks import History\n",
    "from tensorflow.keras import losses"
   ]
  },
  {
   "cell_type": "code",
   "execution_count": 49,
   "metadata": {},
   "outputs": [],
   "source": [
    "vocab_size = 5000\n",
    "embedding_size = 32\n",
    "epochs = 10\n",
    "learning_rate = 0.1\n",
    "decay_rate = learning_rate / epochs\n",
    "momentum = 0.8"
   ]
  },
  {
   "cell_type": "code",
   "execution_count": 50,
   "metadata": {},
   "outputs": [],
   "source": [
    "sgd = SGD(learning_rate=learning_rate, momentum=momentum,  nesterov=False)\n",
    "# on build le modèle\n",
    "model= Sequential()\n",
    "model.add(Embedding(vocab_size, embedding_size, input_length=max_len))\n",
    "model.add(Conv1D(filters=32, kernel_size=1, padding='same', activation='relu'))\n",
    "model.add(MaxPooling1D(pool_size=2))\n",
    "model.add(Bidirectional(LSTM(32)))\n",
    "model.add(Dropout(0.4))\n",
    "model.add(Dense(3, activation='softmax'))\n"
   ]
  },
  {
   "cell_type": "code",
   "execution_count": 51,
   "metadata": {},
   "outputs": [
    {
     "name": "stdout",
     "output_type": "stream",
     "text": [
      "You must install pydot (`pip install pydot`) and install graphviz (see instructions at https://graphviz.gitlab.io/download/) for plot_model to work.\n",
      "Epoch 1/10\n",
      "25/25 [==============================] - 12s 101ms/step - loss: 0.9259 - accuracy: 0.6218 - precision_1: 0.6426 - recall_1: 0.5574 - val_loss: 0.9276 - val_accuracy: 0.6163 - val_precision_1: 0.6163 - val_recall_1: 0.6163\n",
      "Epoch 2/10\n",
      "25/25 [==============================] - 1s 29ms/step - loss: 0.9064 - accuracy: 0.6427 - precision_1: 0.6427 - recall_1: 0.6427 - val_loss: 0.9253 - val_accuracy: 0.6163 - val_precision_1: 0.6163 - val_recall_1: 0.6163\n",
      "Epoch 3/10\n",
      "25/25 [==============================] - 1s 36ms/step - loss: 0.8987 - accuracy: 0.6427 - precision_1: 0.6427 - recall_1: 0.6427 - val_loss: 0.9272 - val_accuracy: 0.6163 - val_precision_1: 0.6163 - val_recall_1: 0.6163\n",
      "Epoch 4/10\n",
      "25/25 [==============================] - 1s 29ms/step - loss: 0.8964 - accuracy: 0.6427 - precision_1: 0.6427 - recall_1: 0.6427 - val_loss: 0.9133 - val_accuracy: 0.6163 - val_precision_1: 0.6163 - val_recall_1: 0.6163\n",
      "Epoch 5/10\n",
      "25/25 [==============================] - 1s 32ms/step - loss: 0.8715 - accuracy: 0.6427 - precision_1: 0.6449 - recall_1: 0.6420 - val_loss: 0.8554 - val_accuracy: 0.6163 - val_precision_1: 0.6163 - val_recall_1: 0.6163\n",
      "Epoch 6/10\n",
      "25/25 [==============================] - 1s 29ms/step - loss: 0.7832 - accuracy: 0.6402 - precision_1: 0.7258 - recall_1: 0.5764 - val_loss: 0.6354 - val_accuracy: 0.6975 - val_precision_1: 0.8426 - val_recall_1: 0.5463\n",
      "Epoch 7/10\n",
      "25/25 [==============================] - 1s 29ms/step - loss: 0.6571 - accuracy: 0.6780 - precision_1: 0.8319 - recall_1: 0.5467 - val_loss: 0.5782 - val_accuracy: 0.7164 - val_precision_1: 0.8059 - val_recall_1: 0.6200\n",
      "Epoch 8/10\n",
      "25/25 [==============================] - 1s 29ms/step - loss: 0.6569 - accuracy: 0.6818 - precision_1: 0.8166 - recall_1: 0.5593 - val_loss: 0.5865 - val_accuracy: 0.7202 - val_precision_1: 0.8861 - val_recall_1: 0.5293\n",
      "Epoch 9/10\n",
      "25/25 [==============================] - 1s 33ms/step - loss: 0.6269 - accuracy: 0.6919 - precision_1: 0.8352 - recall_1: 0.5631 - val_loss: 0.5878 - val_accuracy: 0.7013 - val_precision_1: 0.8202 - val_recall_1: 0.5690\n",
      "Epoch 10/10\n",
      "25/25 [==============================] - 1s 29ms/step - loss: 0.6290 - accuracy: 0.6963 - precision_1: 0.8315 - recall_1: 0.5669 - val_loss: 0.5879 - val_accuracy: 0.7146 - val_precision_1: 0.8414 - val_recall_1: 0.5614\n"
     ]
    }
   ],
   "source": [
    "import tensorflow as tf\n",
    "tf.keras.utils.plot_model(model, show_shapes=True)\n",
    "\n",
    "model.compile(loss='categorical_crossentropy', optimizer=sgd, metrics=['accuracy', Precision(), Recall()])\n",
    "\n",
    "history = model.fit(X_train,y_train,validation_data=(X_val, y_val),batch_size=64,epochs=epochs,verbose=1)"
   ]
  },
  {
   "cell_type": "code",
   "execution_count": 52,
   "metadata": {},
   "outputs": [
    {
     "name": "stdout",
     "output_type": "stream",
     "text": [
      "\n",
      "Accuracy  : 0.7183\n",
      "Precision : 0.8693\n",
      "Recall    : 0.5784\n",
      "0.694665106576944\n",
      "F1 Score  : 0.6947\n"
     ]
    },
    {
     "data": {
      "image/png": "[encoded data removed]",
      "text/plain": [
       "<Figure size 1000x400 with 2 Axes>"
      ]
     },
     "metadata": {},
     "output_type": "display_data"
    }
   ],
   "source": [
    "# On evalue le modèle avec test\n",
    "loss, accuracy, precision, recall = model.evaluate(X_test, y_test, verbose=0)\n",
    "# on print les metrics\n",
    "print('')\n",
    "print('Accuracy  : {:.4f}'.format(accuracy))\n",
    "print('Precision : {:.4f}'.format(precision))\n",
    "print('Recall    : {:.4f}'.format(recall))\n",
    "print('F1 Score  : {:.4f}'.format(f1_score(precision, recall)))\n",
    "\n",
    "def plot_training_hist(history):\n",
    "    '''Function to plot history for accuracy and loss'''\n",
    "    \n",
    "    fig, ax = plt.subplots(1,2, figsize=(10,4))\n",
    "    # first plot\n",
    "    ax[0].plot(history.history['accuracy'])\n",
    "    ax[0].plot(history.history['val_accuracy'])\n",
    "    ax[0].set_title('Model Accuracy')\n",
    "    ax[0].set_xlabel('epoch')\n",
    "    ax[0].set_ylabel('accuracy')\n",
    "    ax[0].legend(['train', 'validation'], loc='best')\n",
    "    \n",
    "    # second plot\n",
    "    ax[1].plot(history.history['loss'])\n",
    "    ax[1].plot(history.history['val_loss'])\n",
    "    ax[1].set_title('Model Loss')\n",
    "    ax[1].set_xlabel('epoch')\n",
    "    ax[1].set_ylabel('loss')\n",
    "    ax[1].legend(['train', 'validation'], loc='best')\n",
    "    \n",
    "plot_training_hist(history)"
   ]
  },
  {
   "cell_type": "code",
   "execution_count": 53,
   "metadata": {},
   "outputs": [
    {
     "name": "stdout",
     "output_type": "stream",
     "text": [
      "17/17 [==============================] - 2s 10ms/step\n",
      "1    342\n",
      "2    112\n",
      "0     75\n",
      "dtype: int64\n",
      "1    399\n",
      "0     94\n",
      "2     36\n",
      "dtype: int64\n"
     ]
    },
    {
     "data": {
      "image/png": "[encoded data removed]",
      "text/plain": [
       "<Figure size 800x600 with 2 Axes>"
      ]
     },
     "metadata": {},
     "output_type": "display_data"
    }
   ],
   "source": [
    "from sklearn.metrics import confusion_matrix\n",
    "\n",
    "def plot_confusion_matrix(model, X_test, y_test):\n",
    "    '''on sort la matrice de confusion avec la data et les anciennes données '''\n",
    "    \n",
    "    sentiment_classes = ['Negative','Neutral', 'Positive']\n",
    "    # on utilise le modèle pour la prédiction\n",
    "    y_pred = model.predict(X_test)\n",
    "   \n",
    "    cm = confusion_matrix(np.argmax(y_pred, axis=1),np.argmax(np.array(y_test),axis=1))\n",
    "    \n",
    "    print(pd.Series(np.argmax(np.array(y_test),axis=1)).value_counts())\n",
    "    print(pd.Series(np.argmax(y_pred, axis=1)).value_counts())\n",
    "    \n",
    "\n",
    "    plt.figure(figsize=(8,6))\n",
    "    sns.heatmap(cm, cmap=plt.cm.Blues, annot=True, fmt='d', \n",
    "                xticklabels=sentiment_classes,\n",
    "                yticklabels=sentiment_classes)\n",
    "    plt.title('Matrice de confusion', fontsize=16)\n",
    "    plt.xlabel('Actual label', fontsize=12)\n",
    "    plt.ylabel('Predicted label', fontsize=12)\n",
    "    \n",
    "plot_confusion_matrix(model, X_test, y_test)"
   ]
  }
 ],
 "metadata": {
  "kernelspec": {
   "display_name": "Python 3",
   "language": "python",
   "name": "python3"
  },
  "language_info": {
   "codemirror_mode": {
    "name": "ipython",
    "version": 3
   },
   "file_extension": ".py",
   "mimetype": "text/x-python",
   "name": "python",
   "nbconvert_exporter": "python",
   "pygments_lexer": "ipython3",
   "version": "3.8.9 (default, Oct 26 2021, 07:25:54) \n[Clang 13.0.0 (clang-1300.0.29.30)]"
  },
  "orig_nbformat": 4,
  "vscode": {
   "interpreter": {
    "hash": "31f2aee4e71d21fbe5cf8b01ff0e069b9275f58929596ceb00d14d90e3e16cd6"
   }
  }
 },
 "nbformat": 4,
 "nbformat_minor": 2
}
